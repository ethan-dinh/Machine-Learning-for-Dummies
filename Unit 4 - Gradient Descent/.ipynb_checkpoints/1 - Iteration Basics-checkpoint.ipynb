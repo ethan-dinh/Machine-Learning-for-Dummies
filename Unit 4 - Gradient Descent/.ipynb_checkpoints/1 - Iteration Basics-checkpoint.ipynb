{
 "cells": [
  {
   "cell_type": "markdown",
   "metadata": {
    "slideshow": {
     "slide_type": "slide"
    }
   },
   "source": [
    "Run the cell below to import the required packages for this notebook:"
   ]
  },
  {
   "cell_type": "code",
   "execution_count": 4,
   "metadata": {
    "slideshow": {
     "slide_type": "subslide"
    }
   },
   "outputs": [],
   "source": [
    "# the plotting package is matplotlib:\n",
    "import matplotlib.pyplot as plt \n",
    "# the next line allows you to view the plots more easily:\n",
    "%matplotlib inline\n",
    "# the numpy package has import math stuff in it:\n",
    "import numpy as np \n",
    "# the pandas package allows us to do spreadsheet stuff:\n",
    "import pandas as pd\n",
    "#linear regression package\n",
    "from sklearn.linear_model import LinearRegression"
   ]
  },
  {
   "cell_type": "markdown",
   "metadata": {},
   "source": [
    "### Functions"
   ]
  },
  {
   "cell_type": "markdown",
   "metadata": {},
   "source": [
    "Today, we are going to do a crash course in functions and iteration. To define a doubling function in Python, we can use the following syntax and then call the function using a few different inputs:"
   ]
  },
  {
   "cell_type": "code",
   "execution_count": 5,
   "metadata": {},
   "outputs": [
    {
     "name": "stdout",
     "output_type": "stream",
     "text": [
      "6\n",
      "10\n"
     ]
    }
   ],
   "source": [
    "def double(x):\n",
    "    return 2*x\n",
    "\n",
    "print(double(3))\n",
    "print(double(5))"
   ]
  },
  {
   "cell_type": "markdown",
   "metadata": {
    "slideshow": {
     "slide_type": "-"
    }
   },
   "source": [
    "As another example, we can create an addition function that returns the sum of two numbers:"
   ]
  },
  {
   "cell_type": "code",
   "execution_count": 6,
   "metadata": {},
   "outputs": [
    {
     "name": "stdout",
     "output_type": "stream",
     "text": [
      "7\n"
     ]
    }
   ],
   "source": [
    "def addition(x,y):\n",
    "    return x+y\n",
    "\n",
    "print(addition(5,2))"
   ]
  },
  {
   "cell_type": "markdown",
   "metadata": {},
   "source": [
    "As another example, we can create an is_even function that returns True if the number is even and false if it is not. We can use the modulo function to accompany this (%). Modulo returns the remainder. If an integer divided by 2 always gives a remainder of 0, then that integer is even:"
   ]
  },
  {
   "cell_type": "code",
   "execution_count": 7,
   "metadata": {},
   "outputs": [
    {
     "name": "stdout",
     "output_type": "stream",
     "text": [
      "True\n",
      "False\n"
     ]
    }
   ],
   "source": [
    "def is_even(x):\n",
    "    if x % 2 == 0:\n",
    "        return True\n",
    "    else:\n",
    "        return False\n",
    "    \n",
    "print(is_even(6))\n",
    "print(is_even(7))"
   ]
  },
  {
   "cell_type": "markdown",
   "metadata": {},
   "source": [
    "Similarly, we can use modulo to create an is_factor function that returns true if m is a factor of n and false otherwise. (Because when an integer divided by another integer has a remainder of 0, then we know it is a factor)."
   ]
  },
  {
   "cell_type": "code",
   "execution_count": 8,
   "metadata": {},
   "outputs": [
    {
     "name": "stdout",
     "output_type": "stream",
     "text": [
      "True\n",
      "False\n"
     ]
    }
   ],
   "source": [
    "def is_factor(n,m):\n",
    "    if n % m == 0:\n",
    "        return True\n",
    "    else:\n",
    "        return False\n",
    "    \n",
    "print(is_factor(6,2))\n",
    "print(is_factor(6,4))"
   ]
  },
  {
   "cell_type": "markdown",
   "metadata": {},
   "source": [
    "### Looping\n",
    "For many applications, we will want to create a loop. The range function allows us to loop through a given amount of times easily. For example, suppose I wanted to print the numbers between 0 and 10. I could type:"
   ]
  },
  {
   "cell_type": "code",
   "execution_count": 9,
   "metadata": {},
   "outputs": [
    {
     "name": "stdout",
     "output_type": "stream",
     "text": [
      "0\n",
      "1\n",
      "2\n",
      "3\n",
      "4\n",
      "5\n",
      "6\n",
      "7\n",
      "8\n",
      "9\n",
      "10\n"
     ]
    }
   ],
   "source": [
    "for i in range(11):\n",
    "    print(i)"
   ]
  },
  {
   "cell_type": "markdown",
   "metadata": {},
   "source": [
    "Notice that the range function stops one short of the argument 11. It also automatically starts at the number 0. If we wanted to print the numbers between 4 and 10, we could add a second argument:"
   ]
  },
  {
   "cell_type": "code",
   "execution_count": 10,
   "metadata": {},
   "outputs": [
    {
     "name": "stdout",
     "output_type": "stream",
     "text": [
      "4\n",
      "5\n",
      "6\n",
      "7\n",
      "8\n",
      "9\n",
      "10\n"
     ]
    }
   ],
   "source": [
    "for i in range(4, 11):\n",
    "    print(i)"
   ]
  },
  {
   "cell_type": "markdown",
   "metadata": {},
   "source": [
    "What if we wanted to print every other number between 4 and 10? We could increment by 2. That is the third argument to the range function:"
   ]
  },
  {
   "cell_type": "code",
   "execution_count": 11,
   "metadata": {},
   "outputs": [
    {
     "name": "stdout",
     "output_type": "stream",
     "text": [
      "4\n",
      "6\n",
      "8\n",
      "10\n"
     ]
    }
   ],
   "source": [
    "for i in range(4, 11, 2):\n",
    "    print(i)"
   ]
  },
  {
   "cell_type": "markdown",
   "metadata": {},
   "source": [
    "What if we wanted to count backwards? We could increment by -1:"
   ]
  },
  {
   "cell_type": "code",
   "execution_count": 12,
   "metadata": {},
   "outputs": [
    {
     "name": "stdout",
     "output_type": "stream",
     "text": [
      "10\n",
      "9\n",
      "8\n",
      "7\n",
      "6\n",
      "5\n"
     ]
    }
   ],
   "source": [
    "for i in range(10,4,-1):\n",
    "    print(i)"
   ]
  },
  {
   "cell_type": "markdown",
   "metadata": {},
   "source": [
    "Suppose that we wanted to create a function called evens that prints all even numbers between m and n. We'll use the range function and add in a conditional statement that tests whether the number is even or not:"
   ]
  },
  {
   "cell_type": "code",
   "execution_count": 13,
   "metadata": {
    "slideshow": {
     "slide_type": "-"
    }
   },
   "outputs": [
    {
     "name": "stdout",
     "output_type": "stream",
     "text": [
      "8\n",
      "10\n",
      "12\n",
      "14\n",
      "16\n",
      "18\n",
      "20\n"
     ]
    }
   ],
   "source": [
    "def evens(m,n):\n",
    "    for i in range(m,n+1):\n",
    "        if i % 2 == 0:\n",
    "            print(i)\n",
    "\n",
    "evens(7,20)"
   ]
  },
  {
   "cell_type": "markdown",
   "metadata": {},
   "source": [
    "As another example, suppose we wanted to create a function called factors that takes in m and prints out all factors of m:"
   ]
  },
  {
   "cell_type": "code",
   "execution_count": 14,
   "metadata": {},
   "outputs": [
    {
     "name": "stdout",
     "output_type": "stream",
     "text": [
      "1\n",
      "2\n",
      "4\n",
      "5\n",
      "10\n",
      "20\n"
     ]
    }
   ],
   "source": [
    "def factors(m):\n",
    "    for i in range(1,m+1):\n",
    "        if m % i == 0:\n",
    "            print(i)\n",
    "\n",
    "factors(20)"
   ]
  },
  {
   "cell_type": "markdown",
   "metadata": {},
   "source": [
    "The triangular numbers are created by summing the first n integers. For example:\n",
    "```\n",
    "1 = 1\n",
    "3 = 1 + 2\n",
    "6 = 1 + 2 + 3\n",
    "10 = 1 + 2 + 3 + 4\n",
    "15 = 1 + 2 + 3 + 4 + 5\n",
    "```\n",
    "We can create a counter that keeps track of these sums. We will initialize it to zero and then always update it to be whatever its value was before plus a new integer:"
   ]
  },
  {
   "cell_type": "code",
   "execution_count": 15,
   "metadata": {},
   "outputs": [
    {
     "name": "stdout",
     "output_type": "stream",
     "text": [
      "1\n",
      "3\n",
      "6\n",
      "10\n",
      "15\n"
     ]
    }
   ],
   "source": [
    "def triangular(n):\n",
    "    counter = 0\n",
    "    for i in range(1,n+1):\n",
    "        counter = counter + i\n",
    "        print(counter)\n",
    "\n",
    "triangular(5)"
   ]
  },
  {
   "cell_type": "markdown",
   "metadata": {},
   "source": [
    "Suppose I wanted to sum all of the factors of a number. I could use a for loop and keep a counter going:"
   ]
  },
  {
   "cell_type": "code",
   "execution_count": 16,
   "metadata": {},
   "outputs": [
    {
     "name": "stdout",
     "output_type": "stream",
     "text": [
      "new factor = 1, new sum = 1\n",
      "new factor = 2, new sum = 3\n",
      "new factor = 4, new sum = 7\n",
      "new factor = 5, new sum = 12\n",
      "new factor = 10, new sum = 22\n",
      "new factor = 20, new sum = 42\n"
     ]
    }
   ],
   "source": [
    "def sum_factors(n):\n",
    "    counter = 0\n",
    "    for i in range(1,n+1):\n",
    "        if n % i == 0:\n",
    "            counter = counter + i\n",
    "            print(f\"new factor = {i}, new sum = {counter}\")\n",
    "sum_factors(20)"
   ]
  },
  {
   "cell_type": "markdown",
   "metadata": {},
   "source": [
    "Python actually allows us to update more than one variable simulataneously using commas. For example, suppose we wanted to keep track of both a sum and product of the factors. We could type:"
   ]
  },
  {
   "cell_type": "code",
   "execution_count": 17,
   "metadata": {},
   "outputs": [
    {
     "name": "stdout",
     "output_type": "stream",
     "text": [
      "new factor = 1, new sum = 1, new product = 1\n",
      "new factor = 2, new sum = 3, new product = 2\n",
      "new factor = 4, new sum = 7, new product = 8\n",
      "new factor = 5, new sum = 12, new product = 40\n",
      "new factor = 10, new sum = 22, new product = 400\n",
      "new factor = 20, new sum = 42, new product = 8000\n"
     ]
    }
   ],
   "source": [
    "def sum_and_multiply_factors(n):\n",
    "    counter = 0\n",
    "    product = 1\n",
    "    for i in range(1,n+1):\n",
    "        if n % i == 0:\n",
    "            counter, product = counter + i, product * i\n",
    "            print(f\"new factor = {i}, new sum = {counter}, new product = {product}\")\n",
    "sum_and_multiply_factors(20)"
   ]
  },
  {
   "cell_type": "markdown",
   "metadata": {},
   "source": [
    "Updating more than one variable simulaneously will help us generate the nth term of the Fibonnaci sequence:"
   ]
  },
  {
   "cell_type": "code",
   "execution_count": 18,
   "metadata": {},
   "outputs": [
    {
     "name": "stdout",
     "output_type": "stream",
     "text": [
      "1\n",
      "1\n",
      "2\n",
      "3\n",
      "5\n",
      "8\n",
      "13\n"
     ]
    }
   ],
   "source": [
    "def fibonacci(n):\n",
    "    a1, a2 = 1, 1\n",
    "    print(a1)\n",
    "    print(a2)\n",
    "    for i in range(n-2):\n",
    "        a1, a2 = a2, a1+a2\n",
    "        print(a2)\n",
    "\n",
    "fibonacci(7)"
   ]
  },
  {
   "cell_type": "markdown",
   "metadata": {},
   "source": [
    "As another example, let's implement Euler's method to approximate the solution to $\\frac{dy}{dx} = f(x,y)$. We'll write a program called euler that takes in a function $f(x,y)$, an initial x value $x_0$, an initial y value $y_0$, a step size $h$, and an end x value $x_n$ and returns the end y-value approximation. We'll simultaneously update the x and y values:"
   ]
  },
  {
   "cell_type": "code",
   "execution_count": 19,
   "metadata": {},
   "outputs": [
    {
     "name": "stdout",
     "output_type": "stream",
     "text": [
      "0.5 1.0\n",
      "1.0 1.2397127693021015\n",
      "1.5 1.6604482617060499\n",
      "2.0 2.159195755008077\n",
      "2.159195755008077\n"
     ]
    }
   ],
   "source": [
    "def euler(f,x0,y0,h,xn):\n",
    "    steps = int((xn-x0)/h)\n",
    "    for i in range(steps):\n",
    "        x0, y0 = x0 + h, y0+h*f(x0)\n",
    "        print(x0, y0)\n",
    "    return y0\n",
    "\n",
    "print(euler(np.sin, 0, 1, 0.5, 2))"
   ]
  },
  {
   "cell_type": "markdown",
   "metadata": {},
   "source": [
    "Sometimes, we may need a double for loop to complete tasks (think: filling up a matrix!). To do that, we'll use 2 different counter variables, often denoted by i and j:"
   ]
  },
  {
   "cell_type": "code",
   "execution_count": 20,
   "metadata": {},
   "outputs": [
    {
     "name": "stdout",
     "output_type": "stream",
     "text": [
      "0 0\n",
      "0 1\n",
      "0 2\n",
      "0 3\n",
      "0 4\n",
      "1 0\n",
      "1 1\n",
      "1 2\n",
      "1 3\n",
      "1 4\n",
      "2 0\n",
      "2 1\n",
      "2 2\n",
      "2 3\n",
      "2 4\n"
     ]
    }
   ],
   "source": [
    "for i in range(3):\n",
    "    for j in range(5):\n",
    "        print(i,j)"
   ]
  },
  {
   "cell_type": "markdown",
   "metadata": {},
   "source": [
    "We can use a double for loop to create multiplication tables:"
   ]
  },
  {
   "cell_type": "code",
   "execution_count": 21,
   "metadata": {},
   "outputs": [
    {
     "name": "stdout",
     "output_type": "stream",
     "text": [
      "0x0=0\n",
      "0x1=0\n",
      "0x2=0\n",
      "0x3=0\n",
      "1x0=0\n",
      "1x1=1\n",
      "1x2=2\n",
      "1x3=3\n",
      "2x0=0\n",
      "2x1=2\n",
      "2x2=4\n",
      "2x3=6\n",
      "3x0=0\n",
      "3x1=3\n",
      "3x2=6\n",
      "3x3=9\n",
      "4x0=0\n",
      "4x1=4\n",
      "4x2=8\n",
      "4x3=12\n"
     ]
    }
   ],
   "source": [
    "def mult_tables(m,n):\n",
    "    for i in range(m+1):\n",
    "        for j in range(n+1):\n",
    "            print(f\"{i}x{j}={i*j}\")\n",
    "            \n",
    "mult_tables(4,3)"
   ]
  },
  {
   "cell_type": "markdown",
   "metadata": {},
   "source": [
    "### While Loops\n",
    "Finally, most of the time for loops work fine but sometimes we prefer while loops. With for loops, we know ahead of times how many times we want to iterate. We use while loops when we aren't sure how many times we want to perform the loop, we just know that we need to iterate until a certain condition is met.\n",
    "\n",
    "For for loops, you need to initialize the counting variable and update it within the loop. Here's an example in which we will continue subtracting 17 from 100 until we obtain a negative number:"
   ]
  },
  {
   "cell_type": "code",
   "execution_count": 22,
   "metadata": {},
   "outputs": [
    {
     "name": "stdout",
     "output_type": "stream",
     "text": [
      "100\n",
      "93\n",
      "86\n",
      "79\n",
      "72\n",
      "65\n",
      "58\n",
      "51\n",
      "44\n",
      "37\n",
      "30\n",
      "23\n",
      "16\n",
      "9\n",
      "2\n"
     ]
    }
   ],
   "source": [
    "x = 100\n",
    "while x >= 0:\n",
    "    print(x)\n",
    "    x = x-7"
   ]
  },
  {
   "cell_type": "markdown",
   "metadata": {},
   "source": [
    "As another example, you can create your factorial function using a while loop:"
   ]
  },
  {
   "cell_type": "code",
   "execution_count": 23,
   "metadata": {},
   "outputs": [
    {
     "data": {
      "text/plain": [
       "120"
      ]
     },
     "execution_count": 23,
     "metadata": {},
     "output_type": "execute_result"
    }
   ],
   "source": [
    "def factorial(n):\n",
    "    product = 1\n",
    "    while n > 1:\n",
    "        product = n * product\n",
    "        n = n-1\n",
    "    return product\n",
    "\n",
    "factorial(5)"
   ]
  },
  {
   "cell_type": "markdown",
   "metadata": {},
   "source": [
    "### Exercise 1 - odds\n",
    "Create a function called odds that prints all odd numbers between m and n."
   ]
  },
  {
   "cell_type": "code",
   "execution_count": 24,
   "metadata": {},
   "outputs": [
    {
     "name": "stdout",
     "output_type": "stream",
     "text": [
      "7\n",
      "9\n",
      "11\n",
      "13\n",
      "15\n",
      "17\n",
      "19\n"
     ]
    }
   ],
   "source": [
    "#insert exercise 1\n",
    "def odds(m,n):\n",
    "    for i in range(m,n+1):\n",
    "        if i % 2 != 0:\n",
    "            print(i)\n",
    "\n",
    "odds(7,20)"
   ]
  },
  {
   "cell_type": "markdown",
   "metadata": {},
   "source": [
    "### Exercise 2 - multiples\n",
    "Create a function called multiples that takes in m and n and prints out all of the multiples of n between 0 and m."
   ]
  },
  {
   "cell_type": "code",
   "execution_count": 25,
   "metadata": {},
   "outputs": [
    {
     "name": "stdout",
     "output_type": "stream",
     "text": [
      "2\n",
      "4\n",
      "6\n",
      "8\n",
      "10\n",
      "12\n",
      "14\n",
      "16\n",
      "18\n",
      "20\n"
     ]
    }
   ],
   "source": [
    "#insert exercise 2\n",
    "def multiples(n, m):\n",
    "    for i in range (1, m+1):\n",
    "        if i % n == 0:\n",
    "            print(i)\n",
    "            \n",
    "multiples(2,20)"
   ]
  },
  {
   "cell_type": "code",
   "execution_count": 26,
   "metadata": {},
   "outputs": [
    {
     "name": "stdout",
     "output_type": "stream",
     "text": [
      "1\n",
      "2\n",
      "6\n",
      "24\n",
      "120\n",
      "720\n"
     ]
    }
   ],
   "source": [
    "#insert exercise 3\n",
    "def factorial(n):\n",
    "    counter = 1\n",
    "    for i in range(1,n+1):\n",
    "        counter = counter * i\n",
    "        print(counter)\n",
    "\n",
    "factorial(6)"
   ]
  },
  {
   "cell_type": "markdown",
   "metadata": {},
   "source": [
    "### Exercise 4 - triple loop\n",
    "Create a TRIPLE for loop that goes through 3 iterations in the outer loop, 4 in the middle loop, and 2 in the inner most loop.\n",
    "\n",
    "How many total iterations do the loops make? Use a counter variable to keep track of how many times the loop executes."
   ]
  },
  {
   "cell_type": "code",
   "execution_count": 27,
   "metadata": {},
   "outputs": [
    {
     "name": "stdout",
     "output_type": "stream",
     "text": [
      "24\n"
     ]
    }
   ],
   "source": [
    "#insert exercise 4\n",
    "counter = 0 \n",
    "for i in range(3):\n",
    "    for f in range(4):\n",
    "        for d in range(2):\n",
    "            counter=counter + 1\n",
    "\n",
    "print(counter)"
   ]
  },
  {
   "cell_type": "markdown",
   "metadata": {},
   "source": [
    "### Exercise 5 - Triple Fibonacci\n",
    "Assume the first three terms of the sequence are 1, 1, and 1. Generate the next term in the sequence by summing the previous THREE terms."
   ]
  },
  {
   "cell_type": "code",
   "execution_count": 28,
   "metadata": {},
   "outputs": [
    {
     "name": "stdout",
     "output_type": "stream",
     "text": [
      "1\n",
      "1\n",
      "1\n",
      "3\n",
      "5\n",
      "9\n",
      "17\n",
      "31\n",
      "57\n",
      "105\n"
     ]
    }
   ],
   "source": [
    "#insert exercise 5\n",
    "def fibonacci(n):\n",
    "    a1, a2, a3 = 1, 1, 1\n",
    "    print(a1)\n",
    "    print(a2)\n",
    "    print(a3)\n",
    "    for i in range(n-3):\n",
    "        a1, a2, a3 = a2, a3, a1+a2+a3\n",
    "        print(a3)\n",
    "\n",
    "fibonacci(10)"
   ]
  },
  {
   "cell_type": "markdown",
   "metadata": {},
   "source": [
    "### Exercise 6 - square\n",
    "Write a function called square that takes in a number x and returns its square. For example, square(5) should return 25. Note: exponentiation in Python is denoted x**2 and not x^2."
   ]
  },
  {
   "cell_type": "code",
   "execution_count": 29,
   "metadata": {},
   "outputs": [
    {
     "name": "stdout",
     "output_type": "stream",
     "text": [
      "25\n",
      "0.5 1.0\n",
      "1.0 1.2397127693021015\n",
      "1.5 1.6604482617060499\n",
      "2.0 2.159195755008077\n",
      "2.159195755008077\n"
     ]
    }
   ],
   "source": [
    "#insert exercise 6\n",
    "def square(n):\n",
    "    i = n*n \n",
    "    print(i)\n",
    "    \n",
    "square(5)"
   ]
  },
  {
   "cell_type": "code",
   "execution_count": null,
   "metadata": {},
   "outputs": [],
   "source": []
  },
  {
   "cell_type": "markdown",
   "metadata": {},
   "source": [
    "### Exercise 7 - Left hand sum\n",
    "Write a program called LHS that takes in a function, a left boundary a, a right boundary b, and the number of rectangles, n, and returns the left hand sum approximation for the area under $f(x)$ between $x=a$ and $x=b$: \n",
    "\n",
    "$\\int_a^b f(x)dx \\approx \\sum_{i=1}^nf(x_{i-1})\\Delta x$. \n",
    "\n",
    "For example, LHS(square,1,5,8) should return 35.5."
   ]
  },
  {
   "cell_type": "code",
   "execution_count": 49,
   "metadata": {
    "scrolled": true
   },
   "outputs": [
    {
     "name": "stdout",
     "output_type": "stream",
     "text": [
      "35.5\n"
     ]
    }
   ],
   "source": [
    "#insert exercise 7\n",
    "def f(x):\n",
    "    return x**2\n",
    "\n",
    "def LHS(a, b, n):\n",
    "    Width = ((b-a)/n)\n",
    "    i=0\n",
    "    area=0\n",
    "    \n",
    "    while (i<(n)):\n",
    "        area=(f(a+Width*i))*Width + area\n",
    "        i=i+1\n",
    "    return area\n",
    "    \n",
    "print(LHS(1, 5, 8))"
   ]
  },
  {
   "cell_type": "code",
   "execution_count": null,
   "metadata": {},
   "outputs": [],
   "source": [
    "func = input('What function (Linear, Squared, Cubic) ? ')\n",
    "if func == 'squared' or func =='Squared':\n",
    "    def f(x):\n",
    "        return x**2\n",
    "if func == 'linear' or func =='Linear':\n",
    "    def f(x):\n",
    "        return x   \n",
    "if func == 'cubic' or func =='Cubic':\n",
    "    def f(x):\n",
    "        return x**3\n",
    "    \n",
    "a = int(input('What is the starting point? ')) \n",
    "b = int(input('What is the end point? '))\n",
    "n = int(input('What is the step size? '))\n",
    "\n",
    "def lhs(f,a,b,n):\n",
    "    Width = ((b-a)/n)\n",
    "    i=0\n",
    "    area=0\n",
    "\n",
    "    while (i<(n)):\n",
    "        area=(f(a+Width*i))*Width + area\n",
    "        i=i+1\n",
    "    return area\n",
    "\n",
    "lhs(f,a,b,n)"
   ]
  },
  {
   "cell_type": "code",
   "execution_count": null,
   "metadata": {},
   "outputs": [],
   "source": []
  }
 ],
 "metadata": {
  "kernelspec": {
   "display_name": "Python 3",
   "language": "python",
   "name": "python3"
  },
  "language_info": {
   "codemirror_mode": {
    "name": "ipython",
    "version": 3
   },
   "file_extension": ".py",
   "mimetype": "text/x-python",
   "name": "python",
   "nbconvert_exporter": "python",
   "pygments_lexer": "ipython3",
   "version": "3.7.4"
  }
 },
 "nbformat": 4,
 "nbformat_minor": 2
}
