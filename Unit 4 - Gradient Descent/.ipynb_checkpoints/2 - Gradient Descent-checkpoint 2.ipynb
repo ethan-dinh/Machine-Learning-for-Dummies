{
 "cells": [
  {
   "cell_type": "code",
   "execution_count": 9,
   "metadata": {},
   "outputs": [
    {
     "ename": "ModuleNotFoundError",
     "evalue": "No module named 'ggplot'",
     "output_type": "error",
     "traceback": [
      "\u001b[0;31m---------------------------------------------------------------------------\u001b[0m",
      "\u001b[0;31mModuleNotFoundError\u001b[0m                       Traceback (most recent call last)",
      "\u001b[0;32m<ipython-input-9-71cb67b995f4>\u001b[0m in \u001b[0;36m<module>\u001b[0;34m\u001b[0m\n\u001b[1;32m      3\u001b[0m \u001b[0;32mimport\u001b[0m \u001b[0mmatplotlib\u001b[0m\u001b[0;34m.\u001b[0m\u001b[0mpyplot\u001b[0m \u001b[0;32mas\u001b[0m \u001b[0mplt\u001b[0m\u001b[0;34m\u001b[0m\u001b[0;34m\u001b[0m\u001b[0m\n\u001b[1;32m      4\u001b[0m \u001b[0;32mimport\u001b[0m \u001b[0mrandom\u001b[0m\u001b[0;34m\u001b[0m\u001b[0;34m\u001b[0m\u001b[0m\n\u001b[0;32m----> 5\u001b[0;31m \u001b[0;32mfrom\u001b[0m \u001b[0mggplot\u001b[0m \u001b[0;32mimport\u001b[0m \u001b[0;34m*\u001b[0m\u001b[0;34m\u001b[0m\u001b[0;34m\u001b[0m\u001b[0m\n\u001b[0m\u001b[1;32m      6\u001b[0m \u001b[0mget_ipython\u001b[0m\u001b[0;34m(\u001b[0m\u001b[0;34m)\u001b[0m\u001b[0;34m.\u001b[0m\u001b[0mrun_line_magic\u001b[0m\u001b[0;34m(\u001b[0m\u001b[0;34m'matplotlib'\u001b[0m\u001b[0;34m,\u001b[0m \u001b[0;34m'inline'\u001b[0m\u001b[0;34m)\u001b[0m\u001b[0;34m\u001b[0m\u001b[0;34m\u001b[0m\u001b[0m\n\u001b[1;32m      7\u001b[0m \u001b[0;32mfrom\u001b[0m \u001b[0msklearn\u001b[0m\u001b[0;34m.\u001b[0m\u001b[0mlinear_model\u001b[0m \u001b[0;32mimport\u001b[0m \u001b[0mLinearRegression\u001b[0m\u001b[0;34m\u001b[0m\u001b[0;34m\u001b[0m\u001b[0m\n",
      "\u001b[0;31mModuleNotFoundError\u001b[0m: No module named 'ggplot'"
     ]
    }
   ],
   "source": [
    "import numpy as np\n",
    "import pandas as pd\n",
    "import matplotlib.pyplot as plt\n",
    "import random\n",
    "%matplotlib inline\n",
    "from sklearn.linear_model import LinearRegression\n",
    "from sklearn.metrics import mean_squared_error\n",
    "from scipy.stats import pearsonr"
   ]
  },
  {
   "cell_type": "markdown",
   "metadata": {},
   "source": [
    "Let's explore this airline datset:"
   ]
  },
  {
   "cell_type": "code",
   "execution_count": 3,
   "metadata": {},
   "outputs": [
    {
     "data": {
      "text/html": [
       "<div>\n",
       "<style scoped>\n",
       "    .dataframe tbody tr th:only-of-type {\n",
       "        vertical-align: middle;\n",
       "    }\n",
       "\n",
       "    .dataframe tbody tr th {\n",
       "        vertical-align: top;\n",
       "    }\n",
       "\n",
       "    .dataframe thead th {\n",
       "        text-align: right;\n",
       "    }\n",
       "</style>\n",
       "<table border=\"1\" class=\"dataframe\">\n",
       "  <thead>\n",
       "    <tr style=\"text-align: right;\">\n",
       "      <th></th>\n",
       "      <th>Airline</th>\n",
       "      <th>Mishandled baggage (per 1000 passengers)</th>\n",
       "      <th>Percentage On Time Arrivals</th>\n",
       "    </tr>\n",
       "  </thead>\n",
       "  <tbody>\n",
       "    <tr>\n",
       "      <td>0</td>\n",
       "      <td>American West</td>\n",
       "      <td>4.36</td>\n",
       "      <td>81.9</td>\n",
       "    </tr>\n",
       "    <tr>\n",
       "      <td>1</td>\n",
       "      <td>United</td>\n",
       "      <td>4.00</td>\n",
       "      <td>80.9</td>\n",
       "    </tr>\n",
       "    <tr>\n",
       "      <td>2</td>\n",
       "      <td>Southwest</td>\n",
       "      <td>4.42</td>\n",
       "      <td>78.4</td>\n",
       "    </tr>\n",
       "    <tr>\n",
       "      <td>3</td>\n",
       "      <td>US Airways</td>\n",
       "      <td>7.16</td>\n",
       "      <td>78.3</td>\n",
       "    </tr>\n",
       "    <tr>\n",
       "      <td>4</td>\n",
       "      <td>Continental</td>\n",
       "      <td>4.62</td>\n",
       "      <td>75.7</td>\n",
       "    </tr>\n",
       "  </tbody>\n",
       "</table>\n",
       "</div>"
      ],
      "text/plain": [
       "         Airline  Mishandled baggage (per 1000 passengers)  \\\n",
       "0  American West                                      4.36   \n",
       "1         United                                      4.00   \n",
       "2      Southwest                                      4.42   \n",
       "3     US Airways                                      7.16   \n",
       "4    Continental                                      4.62   \n",
       "\n",
       "   Percentage On Time Arrivals  \n",
       "0                         81.9  \n",
       "1                         80.9  \n",
       "2                         78.4  \n",
       "3                         78.3  \n",
       "4                         75.7  "
      ]
     },
     "execution_count": 3,
     "metadata": {},
     "output_type": "execute_result"
    }
   ],
   "source": [
    "df = pd.read_csv('data/airlines.csv')\n",
    "df.head()"
   ]
  },
  {
   "cell_type": "markdown",
   "metadata": {},
   "source": [
    "View the scatterplot:"
   ]
  },
  {
   "cell_type": "code",
   "execution_count": 4,
   "metadata": {},
   "outputs": [
    {
     "data": {
      "text/plain": [
       "Text(0, 0.5, 'Percentage On Time Arrivals')"
      ]
     },
     "execution_count": 4,
     "metadata": {},
     "output_type": "execute_result"
    },
    {
     "data": {
      "image/png": "[encoded data removed]",
      "text/plain": [
       "<Figure size 432x288 with 1 Axes>"
      ]
     },
     "metadata": {
      "needs_background": "light"
     },
     "output_type": "display_data"
    }
   ],
   "source": [
    "X = df['Mishandled baggage (per 1000 passengers)']\n",
    "Y = df['Percentage On Time Arrivals']\n",
    "plt.plot(X, Y, '.')\n",
    "plt.xlabel('Mishandled baggage (per 1000 passengers)')\n",
    "plt.ylabel('Percentage On Time Arrivals')"
   ]
  },
  {
   "cell_type": "markdown",
   "metadata": {},
   "source": [
    "Let's run a linear regression model:"
   ]
  },
  {
   "cell_type": "code",
   "execution_count": 5,
   "metadata": {},
   "outputs": [
    {
     "name": "stdout",
     "output_type": "stream",
     "text": [
      "b:  87.20288782505382\n",
      "m:  [-2.15244604]\n"
     ]
    }
   ],
   "source": [
    "# Create an empty model\n",
    "model = LinearRegression()\n",
    "# Choose the response variable, which in this case is y\n",
    "y = df['Percentage On Time Arrivals']\n",
    "# Choose the predictor variable, which in this case is X:\n",
    "X=df.drop(['Airline', 'Percentage On Time Arrivals'], axis=1)\n",
    "# Fit the model to the full dataset\n",
    "model.fit(X, y)\n",
    "# print out intercept\n",
    "print('b: ', model.intercept_)\n",
    "# print out other coefficients\n",
    "print('m: ', model.coef_)"
   ]
  },
  {
   "cell_type": "markdown",
   "metadata": {},
   "source": [
    "Watch these videos by Andrew Ng on Gradient Descent.\n",
    "\n",
    "https://www.coursera.org/learn/machine-learning/lecture/8SpIM/gradient-descent\n",
    "\n",
    "https://www.coursera.org/learn/machine-learning/lecture/GFFPB/gradient-descent-intuition\n",
    "\n",
    "\n",
    "Finally, watch the following video, paying special attention to the formulas explained between 0:00 and 4:30:\n",
    "\n",
    "https://www.coursera.org/lecture/machine-learning/gradient-descent-for-linear-regression-kCvQc\n",
    "\n",
    "<img src=\"images/gradient1.png\" width=500>\n",
    "<img src=\"images/gradient2.png\" width=500>\n",
    "<img src=\"images/simultaneous.png\" width=700>"
   ]
  },
  {
   "cell_type": "markdown",
   "metadata": {},
   "source": [
    "### Exercise: Gradient Descent\n",
    "Write a function called gradient_descent that takes in an input array, X, and output array, Y, a learning rate, alpha, and a tolerance, tol, and prints the $\\theta_0$ and $\\theta_1$ values obtained by the algorithm above. \n",
    "\n",
    "\n",
    "For example, if\n",
    "```\n",
    "X = df['Mishandled baggage (per 1000 passengers)']\n",
    "Y = df['Percentage On Time Arrivals']\n",
    "```\n",
    "then \n",
    "```gradient_descent(X,Y,0.05,0.0001)```\n",
    "should give us out something close (but not exactly) to the values we found above:\n",
    "\n",
    "b (theta0) = 87.20288782505382 and m (theta1) = -2.15244604.\n",
    "\n",
    "\n",
    "Hint: you may want to use an outer while loop that deals with the tolerance and updates the $\\theta_0$ and $\\theta_1$ values and an inner for loop that updates the $\\frac{\\partial}{\\partial \\theta_0}J(\\theta_0, \\theta_1)$ and $\\frac{\\partial}{\\partial \\theta_1}J(\\theta_0, \\theta_1)$ values."
   ]
  },
  {
   "cell_type": "code",
   "execution_count": 6,
   "metadata": {},
   "outputs": [
    {
     "name": "stdout",
     "output_type": "stream",
     "text": [
      "87.16301264227455 -2.1458406529174456\n"
     ]
    }
   ],
   "source": [
    "#Normal Gradient Descent\n",
    "\n",
    "y = df['Percentage On Time Arrivals']\n",
    "X = df['Mishandled baggage (per 1000 passengers)']\n",
    "\n",
    "def f(x,m,b):                                                         #Defining the function of f\n",
    "     return m*x + b                                                   #Setting the function that is being defined\n",
    "\n",
    "k = len(X)                                                            #Defines the number of values in the X data set\n",
    "def gradient(X, y, alpha, tol):\n",
    "    temp1, temp0 = 1,1                                                #Temporary Variables\n",
    "    theta1, theta0 = 0,0                                              #Initial guesses for m and b \n",
    "\n",
    "    while ((temp0 - theta0)**2 + (temp1 - theta1)**2)**(1/2) > tol:   #Ensures that the loop is defined within the tolerance value \n",
    "        temp1, temp0 = theta1, theta0                                 #Keeps track of what is old and what is updated\n",
    "        deriv0, deriv1 = 0, 0                                         #Resets the for loop\n",
    "        \n",
    "        for i in range(k):                                            #Inner Loop - Runs through k amount of times and spits the output into the while loop\n",
    "            deriv1 += ((f(X[i], theta1, theta0) - y[i])) * X[i]\n",
    "            deriv0 += (f(X[i], theta1, theta0) - y[i])\n",
    "            \n",
    "        theta1 = theta1 - (alpha * deriv1)/k\n",
    "        theta0 = theta0 - (alpha * deriv0)/k\n",
    "    print(theta0, theta1)\n",
    "        \n",
    "gradient(X, y, 0.05,0.0001)"
   ]
  },
  {
   "cell_type": "code",
   "execution_count": 16,
   "metadata": {},
   "outputs": [
    {
     "name": "stdout",
     "output_type": "stream",
     "text": [
      "Stochastic or Normal? s\n",
      "What is your guess for m? 0\n",
      "What is your guess for b? 0\n",
      "-2.1450482756642972 87.04279259145665\n"
     ]
    },
    {
     "data": {
      "image/png": "[encoded data removed]",
      "text/plain": [
       "<Figure size 432x288 with 1 Axes>"
      ]
     },
     "metadata": {
      "needs_background": "light"
     },
     "output_type": "display_data"
    }
   ],
   "source": [
    "#Summation of Gradient Descent into one cell!\n",
    "\n",
    "y      = df['Percentage On Time Arrivals']                            #Imports the datasets...\n",
    "X      = df['Mishandled baggage (per 1000 passengers)']\n",
    "k      = len(X)                                                       #Defines the number of values in the X data set\n",
    "\n",
    "\n",
    "fuct   = input('Stochastic or Normal? ')                              #Input of whether the user wants stochastic or normal\n",
    "\n",
    "temp1  = 1                                                            #Definining initializing conditions for the while loop to start\n",
    "temp0  = 1                                                        \n",
    "count  = 0\n",
    "\n",
    "def f(x,m,b):                                                         #Defining the function of f\n",
    "     return m*x + b                                                   #Setting the function that is being defined\n",
    "\n",
    "    \n",
    "if fuct == \"Normal\" or fuct == \"normal\":    \n",
    "    theta1 = float(input('What is your guess for m? '))               #Inputs for the function...\n",
    "    theta0 = float(input('What is your guess for b? '))               \n",
    "    alpha  = float(input('What is the alpha? '))\n",
    "    tol    = float(input('What is the tolerance? '))\n",
    "\n",
    "    while ((temp0 - theta0)**2 + (temp1 - theta1)**2)**(1/2) > tol:   #Ensures that the loop is defined within the tolerance value \n",
    "        temp1, temp0 = theta1, theta0                                 #Keeps track of what is old and what is updated\n",
    "\n",
    "        deriv0, deriv1 = 0, 0                                         #Resets the for loop\n",
    "\n",
    "        for i in range(k):                                            #Inner Loop - Runs through k amount of times and spits the output into the while loop\n",
    "            deriv1 += ((f(X[i], theta1, theta0) - y[i])) * X[i]       #This loop is a summation loop \n",
    "            deriv0 += (f(X[i], theta1, theta0) - y[i])          \n",
    "\n",
    "        theta1 -= (alpha * deriv1)/k                                  #This changes the slope and y-intercept of the hypothesis function to re-enter the while loop        \n",
    "        theta0 -= (alpha * deriv0)/k\n",
    "\n",
    "        count += 1\n",
    "        if count % 100 ==0:\n",
    "            plt.plot(theta0, theta1, '.')\n",
    "            plt.xlabel('Theta0: B')\n",
    "            plt.ylabel('Theta1: M')\n",
    "\n",
    "    \n",
    "    print('b:', theta0, 'm:', theta1) \n",
    "\n",
    "else:                                                                 #Stochastic Algorithim\n",
    "    theta1 = float(input('What is your guess for m? '))               #Initial Guesses for m and b... \n",
    "    theta0 = float(input('What is your guess for b? '))   \n",
    "    alpha = 0.01\n",
    "    tol = 0.00001\n",
    "\n",
    "    while ((temp0 - theta0)**2 + (temp1 - theta1)**2)**(1/2) > tol:\n",
    "        temp1, temp0 = theta1, theta0                                 #Keeps track of what is old and what is updated\n",
    "        deriv0, deriv1 = 0, 0                                         #Resets the for loop\n",
    "\n",
    "        m = random.randint(0, len(X)-1)          \n",
    "        deriv1 = ((f(X[m], theta1, theta0) - y[m])) * X[m]\n",
    "        deriv0 = (f(X[m], theta1, theta0) - y[m])\n",
    "\n",
    "        theta1 = theta1 - (alpha * deriv1)\n",
    "        theta0 = theta0 - (alpha * deriv0)\n",
    "\n",
    "        count += 1\n",
    "        if count % 100 == 0:\n",
    "            plt.plot(theta0, theta1, '.')\n",
    "            plt.xlabel('Theta0: B')\n",
    "            plt.ylabel('Theta1: M')\n",
    "\n",
    "    print(theta1, theta0)"
   ]
  },
  {
   "cell_type": "code",
   "execution_count": 14,
   "metadata": {},
   "outputs": [
    {
     "data": {
      "text/plain": [
       "'abddeft'"
      ]
     },
     "execution_count": 14,
     "metadata": {},
     "output_type": "execute_result"
    }
   ],
   "source": []
  },
  {
   "cell_type": "code",
   "execution_count": null,
   "metadata": {},
   "outputs": [],
   "source": []
  }
 ],
 "metadata": {
  "kernelspec": {
   "display_name": "Python 3",
   "language": "python",
   "name": "python3"
  },
  "language_info": {
   "codemirror_mode": {
    "name": "ipython",
    "version": 3
   },
   "file_extension": ".py",
   "mimetype": "text/x-python",
   "name": "python",
   "nbconvert_exporter": "python",
   "pygments_lexer": "ipython3",
   "version": "3.7.3"
  }
 },
 "nbformat": 4,
 "nbformat_minor": 1
}
