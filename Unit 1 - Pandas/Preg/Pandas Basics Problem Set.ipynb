{
 "cells": [
  {
   "cell_type": "markdown",
   "metadata": {},
   "source": [
    "1.) Once again, read in the file '2002FemPreg.csv'. Strip any whitespace from the column names. "
   ]
  },
  {
   "cell_type": "code",
   "execution_count": 2,
   "metadata": {},
   "outputs": [
    {
     "name": "stdout",
     "output_type": "stream",
     "text": [
      "       caseid  pregordr  howpreg_n  howpreg_p  moscurrp  nowprgdk  pregend1  \\\n",
      "0           1         1        NaN        NaN       NaN       NaN       6.0   \n",
      "1           1         2        NaN        NaN       NaN       NaN       6.0   \n",
      "2           2         1        NaN        NaN       NaN       NaN       5.0   \n",
      "3           2         2        NaN        NaN       NaN       NaN       6.0   \n",
      "4           2         3        NaN        NaN       NaN       NaN       6.0   \n",
      "5           6         1        NaN        NaN       NaN       NaN       6.0   \n",
      "6           6         2        NaN        NaN       NaN       NaN       6.0   \n",
      "7           6         3        NaN        NaN       NaN       NaN       6.0   \n",
      "8           7         1        NaN        NaN       NaN       NaN       5.0   \n",
      "9           7         2        NaN        NaN       NaN       NaN       5.0   \n",
      "10         12         1        NaN        NaN       NaN       NaN       5.0   \n",
      "11         14         1        NaN        NaN       NaN       NaN       6.0   \n",
      "12         14         2        NaN        NaN       NaN       NaN       6.0   \n",
      "13         14         3        NaN        NaN       NaN       NaN       3.0   \n",
      "14         15         1        NaN        NaN       NaN       NaN       1.0   \n",
      "15         15         2        NaN        NaN       NaN       NaN       6.0   \n",
      "16         15         3        NaN        NaN       NaN       NaN       6.0   \n",
      "17         18         1        NaN        NaN       NaN       NaN       5.0   \n",
      "18         18         2        NaN        NaN       NaN       NaN       1.0   \n",
      "19         21         1        NaN        NaN       NaN       NaN       6.0   \n",
      "20         21         2        NaN        NaN       NaN       NaN       6.0   \n",
      "21         23         1        NaN        NaN       NaN       NaN       6.0   \n",
      "22         23         2        NaN        NaN       NaN       NaN       1.0   \n",
      "23         24         1        NaN        NaN       NaN       NaN       6.0   \n",
      "24         24         2        NaN        NaN       NaN       NaN       6.0   \n",
      "25         24         3        NaN        NaN       NaN       NaN       6.0   \n",
      "26         28         1        NaN        NaN       NaN       NaN       6.0   \n",
      "27         31         1        NaN        NaN       NaN       NaN       6.0   \n",
      "28         31         2        NaN        NaN       NaN       NaN       6.0   \n",
      "29         31         3        NaN        NaN       NaN       NaN       6.0   \n",
      "...       ...       ...        ...        ...       ...       ...       ...   \n",
      "13563   12547         2        NaN        NaN       NaN       NaN       6.0   \n",
      "13564   12547         3        NaN        NaN       NaN       NaN       6.0   \n",
      "13565   12550         1        NaN        NaN       NaN       NaN       6.0   \n",
      "13566   12551         1        NaN        NaN       NaN       NaN       5.0   \n",
      "13567   12554         1        NaN        NaN       NaN       NaN       3.0   \n",
      "13568   12554         2        NaN        NaN       NaN       NaN       4.0   \n",
      "13569   12556         1        NaN        NaN       NaN       NaN       6.0   \n",
      "13570   12556         2        NaN        NaN       NaN       NaN       6.0   \n",
      "13571   12556         3        NaN        NaN       NaN       NaN       6.0   \n",
      "13572   12556         4        NaN        NaN       NaN       NaN       6.0   \n",
      "13573   12561         1        NaN        NaN       NaN       NaN       6.0   \n",
      "13574   12561         2        NaN        NaN       NaN       NaN       6.0   \n",
      "13575   12564         1        NaN        NaN       NaN       NaN       3.0   \n",
      "13576   12565         1        NaN        NaN       NaN       NaN       6.0   \n",
      "13577   12565         2       35.0        1.0       8.0       NaN       NaN   \n",
      "13578   12566         1        NaN        NaN       NaN       NaN       6.0   \n",
      "13579   12566         2        NaN        NaN       NaN       NaN       6.0   \n",
      "13580   12568         1        NaN        NaN       NaN       NaN       1.0   \n",
      "13581   12568         2        NaN        NaN       NaN       NaN       5.0   \n",
      "13582   12568         3        NaN        NaN       NaN       NaN       4.0   \n",
      "13583   12569         1        NaN        NaN       NaN       NaN       3.0   \n",
      "13584   12569         2        NaN        NaN       NaN       NaN       6.0   \n",
      "13585   12570         1        NaN        NaN       NaN       NaN       3.0   \n",
      "13586   12570         2        NaN        NaN       NaN       NaN       3.0   \n",
      "13587   12570         3        NaN        NaN       NaN       NaN       3.0   \n",
      "13588   12571         1        NaN        NaN       NaN       NaN       6.0   \n",
      "13589   12571         2        NaN        NaN       NaN       NaN       3.0   \n",
      "13590   12571         3        NaN        NaN       NaN       NaN       3.0   \n",
      "13591   12571         4        NaN        NaN       NaN       NaN       6.0   \n",
      "13592   12571         5        NaN        NaN       NaN       NaN       6.0   \n",
      "\n",
      "       pregend2  nbrnaliv  multbrth  ...  laborfor_i  religion_i  metro_i  \\\n",
      "0           NaN       1.0       NaN  ...           0           0        0   \n",
      "1           NaN       1.0       NaN  ...           0           0        0   \n",
      "2           NaN       3.0       5.0  ...           0           0        0   \n",
      "3           NaN       1.0       NaN  ...           0           0        0   \n",
      "4           NaN       1.0       NaN  ...           0           0        0   \n",
      "5           NaN       1.0       NaN  ...           0           0        0   \n",
      "6           NaN       1.0       NaN  ...           0           0        0   \n",
      "7           NaN       1.0       NaN  ...           0           0        0   \n",
      "8           NaN       1.0       NaN  ...           0           0        0   \n",
      "9           NaN       1.0       NaN  ...           0           0        0   \n",
      "10          NaN       1.0       NaN  ...           0           0        0   \n",
      "11          NaN       1.0       NaN  ...           0           0        0   \n",
      "12          NaN       1.0       NaN  ...           0           0        0   \n",
      "13          NaN       NaN       NaN  ...           0           0        0   \n",
      "14          NaN       NaN       NaN  ...           0           0        0   \n",
      "15          NaN       1.0       NaN  ...           0           0        0   \n",
      "16          NaN       1.0       NaN  ...           0           0        0   \n",
      "17          NaN       1.0       NaN  ...           0           0        0   \n",
      "18          NaN       NaN       NaN  ...           0           0        0   \n",
      "19          NaN       1.0       NaN  ...           0           0        0   \n",
      "20          NaN       1.0       NaN  ...           0           0        0   \n",
      "21          NaN       1.0       NaN  ...           0           0        0   \n",
      "22          NaN       NaN       NaN  ...           0           0        0   \n",
      "23          NaN       1.0       NaN  ...           0           0        0   \n",
      "24          NaN       1.0       NaN  ...           0           0        0   \n",
      "25          NaN       1.0       NaN  ...           0           0        0   \n",
      "26          NaN       1.0       NaN  ...           0           0        0   \n",
      "27          NaN       1.0       NaN  ...           0           0        0   \n",
      "28          NaN       1.0       NaN  ...           0           0        0   \n",
      "29          NaN       1.0       NaN  ...           0           0        0   \n",
      "...         ...       ...       ...  ...         ...         ...      ...   \n",
      "13563       NaN       1.0       NaN  ...           0           0        0   \n",
      "13564       NaN       1.0       NaN  ...           0           0        0   \n",
      "13565       NaN       1.0       NaN  ...           0           0        0   \n",
      "13566       NaN       1.0       NaN  ...           0           0        0   \n",
      "13567       NaN       NaN       NaN  ...           0           0        0   \n",
      "13568       NaN       NaN       NaN  ...           0           0        0   \n",
      "13569       NaN       1.0       NaN  ...           0           0        0   \n",
      "13570       NaN       1.0       NaN  ...           0           0        0   \n",
      "13571       NaN       1.0       NaN  ...           0           0        0   \n",
      "13572       NaN       1.0       NaN  ...           0           0        0   \n",
      "13573       NaN       1.0       NaN  ...           0           0        0   \n",
      "13574       NaN       1.0       NaN  ...           0           0        0   \n",
      "13575       NaN       NaN       NaN  ...           0           0        0   \n",
      "13576       NaN       1.0       NaN  ...           0           0        0   \n",
      "13577       NaN       NaN       NaN  ...           0           0        0   \n",
      "13578       NaN       1.0       NaN  ...           0           0        0   \n",
      "13579       NaN       1.0       NaN  ...           0           0        0   \n",
      "13580       NaN       NaN       NaN  ...           0           0        0   \n",
      "13581       NaN       1.0       NaN  ...           0           0        0   \n",
      "13582       NaN       NaN       NaN  ...           0           0        0   \n",
      "13583       NaN       NaN       NaN  ...           0           0        0   \n",
      "13584       NaN       1.0       NaN  ...           0           0        0   \n",
      "13585       NaN       NaN       NaN  ...           0           0        0   \n",
      "13586       NaN       NaN       NaN  ...           0           0        0   \n",
      "13587       NaN       NaN       NaN  ...           0           0        0   \n",
      "13588       NaN       1.0       NaN  ...           0           0        0   \n",
      "13589       NaN       NaN       NaN  ...           0           0        0   \n",
      "13590       NaN       NaN       NaN  ...           0           0        0   \n",
      "13591       NaN       1.0       NaN  ...           0           0        0   \n",
      "13592       NaN       1.0       NaN  ...           0           0        0   \n",
      "\n",
      "           basewgt  adj_mod_basewgt      finalwgt  secu_p  sest  cmintvw  \\\n",
      "0      3410.389399      3869.349602   6448.271112       2     9      NaN   \n",
      "1      3410.389399      3869.349602   6448.271112       2     9      NaN   \n",
      "2      7226.301740      8567.549110  12999.542264       2    12      NaN   \n",
      "3      7226.301740      8567.549110  12999.542264       2    12      NaN   \n",
      "4      7226.301740      8567.549110  12999.542264       2    12      NaN   \n",
      "5      4870.926435      5325.196999   8874.440799       1    23      NaN   \n",
      "6      4870.926435      5325.196999   8874.440799       1    23      NaN   \n",
      "7      4870.926435      5325.196999   8874.440799       1    23      NaN   \n",
      "8      3409.579565      3787.539000   6911.879921       2    14      NaN   \n",
      "9      3409.579565      3787.539000   6911.879921       2    14      NaN   \n",
      "10     3612.781968      4146.013572   6909.331618       1    31      NaN   \n",
      "11     2418.069494      2810.302771   3039.904507       2    56      NaN   \n",
      "12     2418.069494      2810.302771   3039.904507       2    56      NaN   \n",
      "13     2418.069494      2810.302771   3039.904507       2    56      NaN   \n",
      "14     1667.816099      3200.862017   5553.495599       1    33      NaN   \n",
      "15     1667.816099      3200.862017   5553.495599       1    33      NaN   \n",
      "16     1667.816099      3200.862017   5553.495599       1    33      NaN   \n",
      "17     2957.257457      3404.403067   4153.371741       2    14      NaN   \n",
      "18     2957.257457      3404.403067   4153.371741       2    14      NaN   \n",
      "19     3408.342437      3965.763949   7237.122630       1    48      NaN   \n",
      "20     3408.342437      3965.763949   7237.122630       1    48      NaN   \n",
      "21     6210.373020      8120.841310  13533.382043       2    64      NaN   \n",
      "22     6210.373020      8120.841310  13533.382043       2    64      NaN   \n",
      "23     3409.573258      4068.628645   7424.840414       1    27      NaN   \n",
      "24     3409.573258      4068.628645   7424.840414       1    27      NaN   \n",
      "25     3409.573258      4068.628645   7424.840414       1    27      NaN   \n",
      "26     3407.794208      3808.343516   6949.846082       2    57      NaN   \n",
      "27     3405.679025      4272.084519   5211.943113       1     2      NaN   \n",
      "28     3405.679025      4272.084519   5211.943113       1     2      NaN   \n",
      "29     3405.679025      4272.084519   5211.943113       1     2      NaN   \n",
      "...            ...              ...           ...     ...   ...      ...   \n",
      "13563  3453.545517      6628.022524  11499.619080       1    52      NaN   \n",
      "13564  3453.545517      6628.022524  11499.619080       1    52      NaN   \n",
      "13565  3080.452699      3745.326058   5268.550165       1    79      NaN   \n",
      "13566  2418.538866      3653.453268   3951.940400       2    75      NaN   \n",
      "13567  1914.676604      2177.957240   2764.045534       2    75      NaN   \n",
      "13568  1914.676604      2177.957240   2764.045534       2    75      NaN   \n",
      "13569  2474.619764      3250.573384   3965.699528       1    44      NaN   \n",
      "13570  2474.619764      3250.573384   3965.699528       1    44      NaN   \n",
      "13571  2474.619764      3250.573384   3965.699528       1    44      NaN   \n",
      "13572  2474.619764      3250.573384   3965.699528       1    44      NaN   \n",
      "13573  2418.089703      2698.650781   4497.301527       1    10      NaN   \n",
      "13574  2418.089703      2698.650781   4497.301527       1    10      NaN   \n",
      "13575  1820.850938      2129.214067   2768.191208       2    44      NaN   \n",
      "13576  3195.641221      3834.241709   6652.409365       1    78      NaN   \n",
      "13577  3195.641221      3834.241709   6652.409365       1    78      NaN   \n",
      "13578  2080.317155      2422.820274   2627.548587       2     2      NaN   \n",
      "13579  2080.317155      2422.820274   2627.548587       2     2      NaN   \n",
      "13580  2734.687353      4258.980140   7772.212858       2    28      NaN   \n",
      "13581  2734.687353      4258.980140   7772.212858       2    28      NaN   \n",
      "13582  2734.687353      4258.980140   7772.212858       2    28      NaN   \n",
      "13583  2580.967613      2925.167116   5075.164946       2    61      NaN   \n",
      "13584  2580.967613      2925.167116   5075.164946       2    61      NaN   \n",
      "13585  5181.311509      6205.829154  11325.017623       2    40      NaN   \n",
      "13586  5181.311509      6205.829154  11325.017623       2    40      NaN   \n",
      "13587  5181.311509      6205.829154  11325.017623       2    40      NaN   \n",
      "13588  4670.540953      5795.692880   6269.200989       1    78      NaN   \n",
      "13589  4670.540953      5795.692880   6269.200989       1    78      NaN   \n",
      "13590  4670.540953      5795.692880   6269.200989       1    78      NaN   \n",
      "13591  4670.540953      5795.692880   6269.200989       1    78      NaN   \n",
      "13592  4670.540953      5795.692880   6269.200989       1    78      NaN   \n",
      "\n",
      "       totalwgt_lb  \n",
      "0           8.8125  \n",
      "1           7.8750  \n",
      "2           9.1250  \n",
      "3           7.0000  \n",
      "4           6.1875  \n",
      "5           8.5625  \n",
      "6           9.5625  \n",
      "7           8.3750  \n",
      "8           7.5625  \n",
      "9           6.6250  \n",
      "10          7.8125  \n",
      "11          7.0000  \n",
      "12          4.0000  \n",
      "13             NaN  \n",
      "14             NaN  \n",
      "15          7.6875  \n",
      "16          7.5000  \n",
      "17          6.3125  \n",
      "18             NaN  \n",
      "19          8.7500  \n",
      "20          8.1875  \n",
      "21          5.5625  \n",
      "22             NaN  \n",
      "23          6.7500  \n",
      "24          7.3750  \n",
      "25          6.8125  \n",
      "26          8.1250  \n",
      "27          7.1250  \n",
      "28          6.0625  \n",
      "29          7.4375  \n",
      "...            ...  \n",
      "13563       7.6875  \n",
      "13564       7.6250  \n",
      "13565       8.1250  \n",
      "13566       7.5000  \n",
      "13567          NaN  \n",
      "13568          NaN  \n",
      "13569       5.8125  \n",
      "13570       6.6875  \n",
      "13571       6.0000  \n",
      "13572       5.8125  \n",
      "13573       6.5625  \n",
      "13574       6.1250  \n",
      "13575          NaN  \n",
      "13576       6.4375  \n",
      "13577          NaN  \n",
      "13578       6.0000  \n",
      "13579       7.0000  \n",
      "13580          NaN  \n",
      "13581       6.3750  \n",
      "13582          NaN  \n",
      "13583          NaN  \n",
      "13584       6.3750  \n",
      "13585          NaN  \n",
      "13586          NaN  \n",
      "13587          NaN  \n",
      "13588       6.1875  \n",
      "13589          NaN  \n",
      "13590          NaN  \n",
      "13591       7.5000  \n",
      "13592       7.5000  \n",
      "\n",
      "[13593 rows x 244 columns]\n"
     ]
    }
   ],
   "source": [
    "#insert 1\n",
    "import pandas as pd #spreadsheet google spreadsheet \n",
    "import numpy as np #math np.sqrt np.sin\n",
    "import random #simulations\n",
    "import matplotlib.pyplot as plt #plots stuff\n",
    "%matplotlib inline \n",
    "preg = pd.read_csv('2002FemPreg.csv', index_col = 0)\n",
    "preg.columns = preg.columns.str.strip()\n",
    "print(preg)"
   ]
  },
  {
   "cell_type": "markdown",
   "metadata": {},
   "source": [
    "2.) Reduce the dataframe to only contain data on live births (meaning the preg.outcome == 1)."
   ]
  },
  {
   "cell_type": "code",
   "execution_count": 18,
   "metadata": {},
   "outputs": [
    {
     "data": {
      "text/plain": [
       "9038"
      ]
     },
     "execution_count": 18,
     "metadata": {},
     "output_type": "execute_result"
    }
   ],
   "source": [
    "#insert 2\n",
    "live = preg[preg.outcome == 1]\n",
    "len(live)"
   ]
  },
  {
   "cell_type": "markdown",
   "metadata": {},
   "source": [
    "3.) Reduce the data frame further to consider data for only non-null baby weights (totalwgt_lb) and non-null mother's age values (agepreg)."
   ]
  },
  {
   "cell_type": "code",
   "execution_count": 22,
   "metadata": {},
   "outputs": [
    {
     "data": {
      "text/plain": [
       "9038"
      ]
     },
     "execution_count": 22,
     "metadata": {},
     "output_type": "execute_result"
    }
   ],
   "source": [
    "#insert 3\n",
    "preg = live.dropna(subset = ['totalwgt_lb', 'agepreg'])\n",
    "len(preg)"
   ]
  },
  {
   "cell_type": "markdown",
   "metadata": {},
   "source": [
    "4.) Update the mother's age column so that the ages are no longer but decimals but rounded down integers. Meaning, if the woman's age is saved as 47.8, then re-save it as 47. Hint: recast the column data type as an integer."
   ]
  },
  {
   "cell_type": "code",
   "execution_count": 30,
   "metadata": {},
   "outputs": [],
   "source": [
    "#insert 4\n",
    "preg.agepreg = preg.agepreg.astype(int)\n",
    "pregno = preg.agepreg"
   ]
  },
  {
   "cell_type": "markdown",
   "metadata": {},
   "source": [
    "5.) Make a histogram of the womens' ages. Label axes and give a title."
   ]
  },
  {
   "cell_type": "code",
   "execution_count": 27,
   "metadata": {},
   "outputs": [
    {
     "data": {
      "text/plain": [
       "Text(0.5, 0, \"Mother's Age\")"
      ]
     },
     "execution_count": 27,
     "metadata": {},
     "output_type": "execute_result"
    },
    {
     "data": {
      "image/png": "[encoded data removed]",
      "text/plain": [
       "<Figure size 432x288 with 1 Axes>"
      ]
     },
     "metadata": {
      "needs_background": "light"
     },
     "output_type": "display_data"
    }
   ],
   "source": [
    "#insert 5\n",
    "preg.agepreg.plot.hist(np.arange(10, 50, 1), edgecolor=\"black\")\n",
    "plt.xlabel(\"Mother's Age\", size=10)"
   ]
  },
  {
   "cell_type": "markdown",
   "metadata": {},
   "source": [
    "6.) Create a frequency chart in descending order of age frequency."
   ]
  },
  {
   "cell_type": "code",
   "execution_count": 28,
   "metadata": {},
   "outputs": [
    {
     "data": {
      "text/plain": [
       "21    636\n",
       "20    631\n",
       "23    588\n",
       "24    558\n",
       "19    557\n",
       "22    549\n",
       "18    539\n",
       "26    512\n",
       "25    508\n",
       "27    485\n",
       "28    439\n",
       "17    393\n",
       "30    392\n",
       "29    392\n",
       "31    336\n",
       "32    276\n",
       "16    237\n",
       "33    218\n",
       "34    171\n",
       "35    133\n",
       "15    126\n",
       "36     98\n",
       "37     82\n",
       "38     54\n",
       "14     43\n",
       "39     34\n",
       "40     19\n",
       "41     13\n",
       "13     11\n",
       "10      2\n",
       "42      2\n",
       "11      1\n",
       "12      1\n",
       "44      1\n",
       "43      1\n",
       "Name: agepreg, dtype: int64"
      ]
     },
     "execution_count": 28,
     "metadata": {},
     "output_type": "execute_result"
    }
   ],
   "source": [
    "#insert 6\n",
    "preg.agepreg.value_counts()"
   ]
  },
  {
   "cell_type": "markdown",
   "metadata": {},
   "source": [
    "7.) Create a frequency chart in ascending order of age."
   ]
  },
  {
   "cell_type": "code",
   "execution_count": 29,
   "metadata": {},
   "outputs": [
    {
     "data": {
      "text/plain": [
       "10      2\n",
       "11      1\n",
       "12      1\n",
       "13     11\n",
       "14     43\n",
       "15    126\n",
       "16    237\n",
       "17    393\n",
       "18    539\n",
       "19    557\n",
       "20    631\n",
       "21    636\n",
       "22    549\n",
       "23    588\n",
       "24    558\n",
       "25    508\n",
       "26    512\n",
       "27    485\n",
       "28    439\n",
       "29    392\n",
       "30    392\n",
       "31    336\n",
       "32    276\n",
       "33    218\n",
       "34    171\n",
       "35    133\n",
       "36     98\n",
       "37     82\n",
       "38     54\n",
       "39     34\n",
       "40     19\n",
       "41     13\n",
       "42      2\n",
       "43      1\n",
       "44      1\n",
       "Name: agepreg, dtype: int64"
      ]
     },
     "execution_count": 29,
     "metadata": {},
     "output_type": "execute_result"
    }
   ],
   "source": [
    "#insert 7\n",
    "preg.agepreg.value_counts().sort_index()"
   ]
  },
  {
   "cell_type": "markdown",
   "metadata": {},
   "source": [
    "8.) How old was the youngest and oldest mother in the survey and how much did their baby weigh?"
   ]
  },
  {
   "cell_type": "code",
   "execution_count": 95,
   "metadata": {},
   "outputs": [
    {
     "name": "stdout",
     "output_type": "stream",
     "text": [
      "10\n",
      "44\n",
      "7.8125\n",
      "7.9375\n"
     ]
    }
   ],
   "source": [
    "#insert 8\n",
    "print(pregno.min())\n",
    "print(pregno.max())\n",
    "print(preg.totalwgt_lb[pregno.min()])\n",
    "print(preg.totalwgt_lb[pregno.max()])"
   ]
  },
  {
   "cell_type": "markdown",
   "metadata": {},
   "source": [
    "9.) What is the average woman's age? What is the woman's age in the 25th quartile? The 75th?"
   ]
  },
  {
   "cell_type": "code",
   "execution_count": 96,
   "metadata": {
    "scrolled": true
   },
   "outputs": [
    {
     "name": "stdout",
     "output_type": "stream",
     "text": [
      "24.47975215755698\n",
      "20.0\n",
      "28.0\n"
     ]
    }
   ],
   "source": [
    "#insert 9\n",
    "print(pregno.mean())\n",
    "print(pregno.quantile(.25))\n",
    "print(pregno.quantile(.75))"
   ]
  },
  {
   "cell_type": "markdown",
   "metadata": {},
   "source": [
    "10.) Find the average birthweight for the mothers in the youngest quartile and in the oldest quartile. Might younger mothers tend to have heavier babies?"
   ]
  },
  {
   "cell_type": "code",
   "execution_count": 35,
   "metadata": {},
   "outputs": [
    {
     "name": "stdout",
     "output_type": "stream",
     "text": [
      "7.1012150728059815\n",
      "7.369950206689214\n"
     ]
    }
   ],
   "source": [
    "#insert 10\n",
    "youngweight = preg.totalwgt_lb[pregno <= pregno.quantile(.25)]\n",
    "print(youngage.mean())\n",
    "oldweight = preg.totalwgt_lb[pregno >= pregno.quantile(.75)]\n",
    "print(oldage.mean())"
   ]
  },
  {
   "cell_type": "markdown",
   "metadata": {},
   "source": [
    "11.) Make a comparative histogram of baby weights for mothers in the youngest and oldest quartile."
   ]
  },
  {
   "cell_type": "code",
   "execution_count": 40,
   "metadata": {},
   "outputs": [
    {
     "data": {
      "image/png": "[encoded data removed]",
      "text/plain": [
       "<Figure size 432x288 with 1 Axes>"
      ]
     },
     "metadata": {
      "needs_background": "light"
     },
     "output_type": "display_data"
    }
   ],
   "source": [
    "#insert 11\n",
    "plt.hist([oldweight, youngweight],np.arange(0, 16, 1),label=['75th', '25th'])\n",
    "plt.xlabel(\"Weight in Pounds\", size=10)\n",
    "plt.ylabel('Frequency', size=10)\n",
    "plt.legend()\n",
    "plt.show()"
   ]
  },
  {
   "cell_type": "markdown",
   "metadata": {},
   "source": [
    "By the way, where did this large pregnancy dataset come from? I found it in a super amazing open resource, online Python statistics book called Think Stats. You should check out all of the modules here: http://greenteapress.com/thinkstats/\n",
    "\n",
    "The dataset itself is obtained from the CDC's 2002 Cycle 6 "
   ]
  }
 ],
 "metadata": {
  "kernelspec": {
   "display_name": "Python 3",
   "language": "python",
   "name": "python3"
  },
  "language_info": {
   "codemirror_mode": {
    "name": "ipython",
    "version": 3
   },
   "file_extension": ".py",
   "mimetype": "text/x-python",
   "name": "python",
   "nbconvert_exporter": "python",
   "pygments_lexer": "ipython3",
   "version": "3.7.3"
  }
 },
 "nbformat": 4,
 "nbformat_minor": 2
}
