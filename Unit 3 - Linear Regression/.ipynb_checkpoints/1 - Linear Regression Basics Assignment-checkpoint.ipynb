{
 "cells": [
  {
   "cell_type": "markdown",
   "metadata": {},
   "source": [
    "The main package we'll use in this unit is [***scikit-learn***](http://scikit-learn.org/dev/index.html). It has a multitude of machine learning algorithms and a tremendous amount of functionality. \n",
    "\n",
    "If you run this on cocalc, you won't need to download anything. If you are running this on your local computer,try running the following imports and check that they all import successfully. If the scikit-learn package fails to load, try typing\n",
    "\n",
    "``` \n",
    "conda install --upgrade scikit-learn\n",
    "or\n",
    "pip install --upgrade scikit-learn\n",
    "```\n",
    "in a terminal command line."
   ]
  },
  {
   "cell_type": "code",
   "execution_count": 1,
   "metadata": {},
   "outputs": [],
   "source": [
    "import numpy as np\n",
    "import pandas as pd\n",
    "import matplotlib.pyplot as plt\n",
    "%matplotlib inline\n",
    "from sklearn.linear_model import LinearRegression\n",
    "from sklearn.metrics import mean_squared_error\n",
    "from scipy.stats import pearsonr"
   ]
  },
  {
   "cell_type": "markdown",
   "metadata": {},
   "source": [
    "### Linear Regression By Hand\n",
    "If a distribution is symmetric, unimodal, and bell-shaped, then we call it Normal. When a distribution is Normal, we use the mean to describe its center and its standard deviation to describe its spread. The formulas for these are:\n",
    "\n",
    "$\\bar{x} = \\frac{x_1+x_2+...x_n}{n}$\n",
    "\n",
    "$s=\\sqrt{\\frac{(x_1-\\bar{x})^2+(x_2-\\bar{x})^2+...+(x_n-\\bar{x})^2}{n-1}}$\n",
    "\n",
    "On your own time if interested, you can explore why we take the “average” by dividing by n-1 instead of n, but this is beyond the scope of the class."
   ]
  },
  {
   "cell_type": "markdown",
   "metadata": {},
   "source": [
    "### Exercise 1: \n",
    "A four person class has test scores of 80, 84, 84, 88. Calculate the mean and standard deviation by hand. "
   ]
  },
  {
   "cell_type": "code",
   "execution_count": 8,
   "metadata": {},
   "outputs": [
    {
     "data": {
      "text/html": [
       "<div>\n",
       "<style scoped>\n",
       "    .dataframe tbody tr th:only-of-type {\n",
       "        vertical-align: middle;\n",
       "    }\n",
       "\n",
       "    .dataframe tbody tr th {\n",
       "        vertical-align: top;\n",
       "    }\n",
       "\n",
       "    .dataframe thead th {\n",
       "        text-align: right;\n",
       "    }\n",
       "</style>\n",
       "<table border=\"1\" class=\"dataframe\">\n",
       "  <thead>\n",
       "    <tr style=\"text-align: right;\">\n",
       "      <th></th>\n",
       "      <th>0</th>\n",
       "    </tr>\n",
       "  </thead>\n",
       "  <tbody>\n",
       "    <tr>\n",
       "      <td>count</td>\n",
       "      <td>4.000000</td>\n",
       "    </tr>\n",
       "    <tr>\n",
       "      <td>mean</td>\n",
       "      <td>84.000000</td>\n",
       "    </tr>\n",
       "    <tr>\n",
       "      <td>std</td>\n",
       "      <td>3.265986</td>\n",
       "    </tr>\n",
       "    <tr>\n",
       "      <td>min</td>\n",
       "      <td>80.000000</td>\n",
       "    </tr>\n",
       "    <tr>\n",
       "      <td>25%</td>\n",
       "      <td>83.000000</td>\n",
       "    </tr>\n",
       "    <tr>\n",
       "      <td>50%</td>\n",
       "      <td>84.000000</td>\n",
       "    </tr>\n",
       "    <tr>\n",
       "      <td>75%</td>\n",
       "      <td>85.000000</td>\n",
       "    </tr>\n",
       "    <tr>\n",
       "      <td>max</td>\n",
       "      <td>88.000000</td>\n",
       "    </tr>\n",
       "  </tbody>\n",
       "</table>\n",
       "</div>"
      ],
      "text/plain": [
       "               0\n",
       "count   4.000000\n",
       "mean   84.000000\n",
       "std     3.265986\n",
       "min    80.000000\n",
       "25%    83.000000\n",
       "50%    84.000000\n",
       "75%    85.000000\n",
       "max    88.000000"
      ]
     },
     "execution_count": 8,
     "metadata": {},
     "output_type": "execute_result"
    }
   ],
   "source": [
    "#write your answers in here\n",
    "data = [80, 84, 84, 88]\n",
    "test = pd.DataFrame(data)\n",
    "test.describe()"
   ]
  },
  {
   "cell_type": "markdown",
   "metadata": {},
   "source": [
    "Let's view the the Arizona State Tuition Data Below:"
   ]
  },
  {
   "cell_type": "code",
   "execution_count": 3,
   "metadata": {},
   "outputs": [
    {
     "data": {
      "text/html": [
       "<div>\n",
       "<style scoped>\n",
       "    .dataframe tbody tr th:only-of-type {\n",
       "        vertical-align: middle;\n",
       "    }\n",
       "\n",
       "    .dataframe tbody tr th {\n",
       "        vertical-align: top;\n",
       "    }\n",
       "\n",
       "    .dataframe thead th {\n",
       "        text-align: right;\n",
       "    }\n",
       "</style>\n",
       "<table border=\"1\" class=\"dataframe\">\n",
       "  <thead>\n",
       "    <tr style=\"text-align: right;\">\n",
       "      <th></th>\n",
       "      <th>Year</th>\n",
       "      <th>Cost</th>\n",
       "    </tr>\n",
       "  </thead>\n",
       "  <tbody>\n",
       "    <tr>\n",
       "      <td>0</td>\n",
       "      <td>1990</td>\n",
       "      <td>6546</td>\n",
       "    </tr>\n",
       "    <tr>\n",
       "      <td>1</td>\n",
       "      <td>1991</td>\n",
       "      <td>6996</td>\n",
       "    </tr>\n",
       "    <tr>\n",
       "      <td>2</td>\n",
       "      <td>1992</td>\n",
       "      <td>6996</td>\n",
       "    </tr>\n",
       "    <tr>\n",
       "      <td>3</td>\n",
       "      <td>1993</td>\n",
       "      <td>7350</td>\n",
       "    </tr>\n",
       "    <tr>\n",
       "      <td>4</td>\n",
       "      <td>1994</td>\n",
       "      <td>7500</td>\n",
       "    </tr>\n",
       "  </tbody>\n",
       "</table>\n",
       "</div>"
      ],
      "text/plain": [
       "   Year  Cost\n",
       "0  1990  6546\n",
       "1  1991  6996\n",
       "2  1992  6996\n",
       "3  1993  7350\n",
       "4  1994  7500"
      ]
     },
     "execution_count": 3,
     "metadata": {},
     "output_type": "execute_result"
    }
   ],
   "source": [
    "df = pd.read_csv('data/arizonastatetuition.csv')\n",
    "df.head()"
   ]
  },
  {
   "cell_type": "markdown",
   "metadata": {},
   "source": [
    "We can plot it:"
   ]
  },
  {
   "cell_type": "code",
   "execution_count": 4,
   "metadata": {},
   "outputs": [
    {
     "data": {
      "text/plain": [
       "Text(0, 0.5, 'Cost')"
      ]
     },
     "execution_count": 4,
     "metadata": {},
     "output_type": "execute_result"
    },
    {
     "data": {
      "image/png": "[encoded data removed]",
      "text/plain": [
       "<Figure size 432x288 with 1 Axes>"
      ]
     },
     "metadata": {
      "needs_background": "light"
     },
     "output_type": "display_data"
    }
   ],
   "source": [
    "X = df['Year']\n",
    "Y = df['Cost']\n",
    "plt.plot(X, Y, '.')\n",
    "plt.xlabel('Year')\n",
    "plt.ylabel('Cost')"
   ]
  },
  {
   "cell_type": "markdown",
   "metadata": {},
   "source": [
    "### Correlation\n",
    "\n",
    "Correlation measures the strength of the linear association between two quantitative variables. (Thus, there can be an association between two categorical variables, but there is not a correlation unless they are quantitative).  Before you use correlation, you must check several conditions:\n",
    "\n",
    "- **Quantitative Variables Condition**: Both variables must be quantitative. Variables such as gender or occupation are categorical, not quantitative.\n",
    "\n",
    "- **Straight Enough Condition**: Is the form of the scatterplot straight enough that a linear relationship makes sense? \n",
    "\n",
    "- **Outlier Condition**: Outliers can distort the correlation dramatically. It can make a weak correlation look strong or vice versa. When you see an outlier, it’s often a good idea to report the correlation with and without that point."
   ]
  },
  {
   "cell_type": "markdown",
   "metadata": {},
   "source": [
    "### Exercise 2:\n",
    "\n",
    "Which relationships could you possibly describe using correlation if the data was straight enough?\n",
    "\n",
    "a.\tArizona state tuition over time.\n",
    "\n",
    "b.\tHurricane prediction error over time. \n",
    "\n",
    "c.\tThe role that having a high school diploma or not plays in income level.\n",
    "\n",
    "d.\tThe amount of calories that a person needs versus their weight.\n",
    "\n",
    "e.\tLifespan versus whether or not a person was a vegetarian."
   ]
  },
  {
   "cell_type": "code",
   "execution_count": 6,
   "metadata": {},
   "outputs": [],
   "source": [
    "#insert answers here\n",
    "#A, B, D(Maybe)"
   ]
  },
  {
   "cell_type": "markdown",
   "metadata": {},
   "source": [
    "- Correlation is always between -1 and 1. Correlation can be exactly equal to 1 or -1, but this is extremely unlikely with real data values.\n",
    "- r near +1 denotes a very strong positive correlation\n",
    "- r near -1 denotes a very strong negative correlation\n",
    "- r near zero denotes very weak correlation\n",
    "\n",
    "Play around with the following applet to get a sense for correlation:\n",
    "\thttp://istics.net/stat/Correlations/\n",
    "\n",
    "Correlation Properties:\n",
    "\n",
    "- The sign of a correlation coefficient gives the direction of the association.\n",
    "\n",
    "- Correlation is always between -1 and 1. Correlation can be exactly equal to 1 or -1, but this is extremely unlikely with real data values.\n",
    "\n",
    "- Correlation treats x and y symmetrically. The correlation of x with y is the same as the correlation of y with x.\n",
    "\n",
    "- Correlation has no units. \n",
    "\n",
    "- Correlation is not affected by the center or the scale of either variable (since z-scores are unaffected).\n",
    "\n",
    "- Correlation measures the strength of the linear association between the two variables. Variables can be strongly associated but still have a small correlation if the association isn’t linear.\n",
    "\n",
    "- Correlation is sensitive to outliers. \n",
    "\n",
    "\n"
   ]
  },
  {
   "cell_type": "markdown",
   "metadata": {},
   "source": [
    "### Exercise 3:\n",
    "All but one of the statements below contains a mistake. Explain what the mistakes are and explain which one could be true.\n",
    "\n",
    "A)  If the correlation between blood alcohol level and reaction time is 0.73, then the correlation between reaction time and blood alcohol level is -0.73.\n",
    "\n",
    "B)  The correlation between height and weight is 0.568 inches per pound.\n",
    "\n",
    "C)  The correlation between the breed of a dog and its weight is 0.435.\n",
    "\n",
    "D)  The correlation between weight and length of foot is 0.488.\n",
    "\n",
    "E)  The correlation between gender and age is -0.171. \n"
   ]
  },
  {
   "cell_type": "code",
   "execution_count": 6,
   "metadata": {},
   "outputs": [],
   "source": [
    "#insert answers here\n",
    "#D"
   ]
  },
  {
   "cell_type": "markdown",
   "metadata": {},
   "source": [
    "### Correlation Does Not Imply Causation\n",
    "Whenever we have a strong correlation, it’s tempting to try to explain it by imagining that the predictor variable has caused the response to change. Don’t do it!\n",
    "\n",
    "Example: A scatterplot of damage in dollars caused to a house by fire would show a strong correlation with the number of firefighters at the scene. Does that mean that firefighters cause the damage? No! There is a lurking variable – the size of the blaze! Scatterplots and correlation coefficients NEVER prove causation. \n",
    "\n",
    "### Exercise 4:\n",
    "A study by a prominent psychologist found a moderately strong positive association between the number of hours of sleep a person gets and the personʹs ability to memorize information. \n",
    "\n",
    "a. Explain in the context of this problem what ʺpositive associationʺ means.\n",
    "\n",
    "\n",
    "b. Hoping to improve academic performance, the psychologist recommended \tthe school board allow students to take a nap prior to any assessment. Discuss this reasoning.\n"
   ]
  },
  {
   "cell_type": "code",
   "execution_count": 7,
   "metadata": {},
   "outputs": [],
   "source": [
    "#insert answer here"
   ]
  },
  {
   "cell_type": "markdown",
   "metadata": {},
   "source": [
    "Going back to the Arizona State tuition example, we can find the correlation coefficient, r, by typing:"
   ]
  },
  {
   "cell_type": "code",
   "execution_count": 8,
   "metadata": {},
   "outputs": [
    {
     "data": {
      "text/plain": [
       "0.993158716292017"
      ]
     },
     "execution_count": 8,
     "metadata": {},
     "output_type": "execute_result"
    }
   ],
   "source": [
    "pearsonr(X, Y)[0]"
   ]
  },
  {
   "cell_type": "markdown",
   "metadata": {},
   "source": [
    "We can actually use the built-in capabilities of pandas to view correlation coefficients as well. Obviously, the correlation between a variable and itself is 1:"
   ]
  },
  {
   "cell_type": "code",
   "execution_count": 9,
   "metadata": {},
   "outputs": [
    {
     "data": {
      "text/html": [
       "<div>\n",
       "<style scoped>\n",
       "    .dataframe tbody tr th:only-of-type {\n",
       "        vertical-align: middle;\n",
       "    }\n",
       "\n",
       "    .dataframe tbody tr th {\n",
       "        vertical-align: top;\n",
       "    }\n",
       "\n",
       "    .dataframe thead th {\n",
       "        text-align: right;\n",
       "    }\n",
       "</style>\n",
       "<table border=\"1\" class=\"dataframe\">\n",
       "  <thead>\n",
       "    <tr style=\"text-align: right;\">\n",
       "      <th></th>\n",
       "      <th>Year</th>\n",
       "      <th>Cost</th>\n",
       "    </tr>\n",
       "  </thead>\n",
       "  <tbody>\n",
       "    <tr>\n",
       "      <td>Year</td>\n",
       "      <td>1.000000</td>\n",
       "      <td>0.993159</td>\n",
       "    </tr>\n",
       "    <tr>\n",
       "      <td>Cost</td>\n",
       "      <td>0.993159</td>\n",
       "      <td>1.000000</td>\n",
       "    </tr>\n",
       "  </tbody>\n",
       "</table>\n",
       "</div>"
      ],
      "text/plain": [
       "          Year      Cost\n",
       "Year  1.000000  0.993159\n",
       "Cost  0.993159  1.000000"
      ]
     },
     "execution_count": 9,
     "metadata": {},
     "output_type": "execute_result"
    }
   ],
   "source": [
    "df.corr()"
   ]
  },
  {
   "cell_type": "markdown",
   "metadata": {},
   "source": [
    "### Linear Regression \n",
    "The line of best fit is given by the equations\n",
    "\n",
    "$\\hat{y} = b + mx$, where\n",
    "$ m= r (\\frac{s_y}{s_x})$\n",
    "and \n",
    "$b = \\bar{y} - m \\bar{x}$. \n",
    "\n",
    "To find the means and standard deviations, we can type:"
   ]
  },
  {
   "cell_type": "code",
   "execution_count": 7,
   "metadata": {
    "scrolled": true
   },
   "outputs": [
    {
     "name": "stdout",
     "output_type": "stream",
     "text": [
      "X mean: 1995.0, Y mean: 8070.363636363636\n",
      "X std: 3.3166247903554, Y std: 1088.940794784296\n"
     ]
    }
   ],
   "source": [
    "print(f\"X mean: {X.mean()}, Y mean: {Y.mean()}\")\n",
    "print(f\"X std: {X.std()}, Y std: {Y.std()}\")"
   ]
  },
  {
   "cell_type": "markdown",
   "metadata": {},
   "source": [
    "### Exercise 5:\n",
    "Calculate the line of best fit by hand for the Arizona State tuition example by using the mean and standard deviation values above."
   ]
  },
  {
   "cell_type": "code",
   "execution_count": 13,
   "metadata": {},
   "outputs": [],
   "source": [
    "#insert exercise 5 answers"
   ]
  },
  {
   "cell_type": "markdown",
   "metadata": {},
   "source": [
    "We can also obtain the line of best fit using the scikit-learn package:"
   ]
  },
  {
   "cell_type": "code",
   "execution_count": 17,
   "metadata": {},
   "outputs": [
    {
     "name": "stdout",
     "output_type": "stream",
     "text": [
      "b:  -642462.8636363638\n",
      "m:  [326.08181818]\n"
     ]
    }
   ],
   "source": [
    "# Create an empty model\n",
    "model = LinearRegression()\n",
    "# Choose the response variable, which in this case is y\n",
    "y = df['Cost']\n",
    "# Choose the predictor variable, which in this case is X:\n",
    "X=df.drop('Cost', axis=1)\n",
    "# Fit the model to the full dataset\n",
    "model.fit(X, y)\n",
    "# print out intercept\n",
    "print('b: ', model.intercept_)\n",
    "# print out other coefficients\n",
    "print('m: ', model.coef_)"
   ]
  },
  {
   "cell_type": "markdown",
   "metadata": {},
   "source": [
    "Note that a mean of $\\bar{Y}=326$ indicates that for each increase in year, the tuition is expected to rise by 326 dollars. A y-intercept of -642,462 indicates that in the year 0 A.D., we predict tuition to cost -642,462. Obviously, this does not make sense, as we extrapolated too far from the given range of x-values 1990-2000. Often, the y-intercept may not make much sense in context, but the slope should."
   ]
  },
  {
   "cell_type": "markdown",
   "metadata": {},
   "source": [
    "If we wanted to plot the regression line manually, we could type:"
   ]
  },
  {
   "cell_type": "code",
   "execution_count": 13,
   "metadata": {},
   "outputs": [
    {
     "data": {
      "text/plain": [
       "<matplotlib.legend.Legend at 0x7f06774aedd8>"
      ]
     },
     "execution_count": 13,
     "metadata": {},
     "output_type": "execute_result"
    },
    {
     "data": {
      "image/png": "[encoded data removed]",
      "text/plain": [
       "<Figure size 432x288 with 1 Axes>"
      ]
     },
     "execution_count": 13,
     "metadata": {
      "image/png": {
       "height": 261,
       "width": 395
      }
     },
     "output_type": "execute_result"
    }
   ],
   "source": [
    "b = model.intercept_\n",
    "m = model.coef_[0]\n",
    "plt.plot(X,y,'.', label='actual')\n",
    "plt.plot(X, m*X+b, '.', label='predicted')\n",
    "plt.xlabel('number of claims')\n",
    "plt.ylabel('total payout in thousands of Kronor')\n",
    "plt.legend()"
   ]
  },
  {
   "cell_type": "markdown",
   "metadata": {},
   "source": [
    "But luckily, we can use the predict method built in:"
   ]
  },
  {
   "cell_type": "code",
   "execution_count": 28,
   "metadata": {},
   "outputs": [
    {
     "data": {
      "image/png": "[encoded data removed]",
      "text/plain": [
       "<Figure size 432x288 with 1 Axes>"
      ]
     },
     "metadata": {
      "needs_background": "light"
     },
     "output_type": "display_data"
    }
   ],
   "source": [
    "plt.plot(X,y,'.', X, model.predict(X), '.');\n",
    "plt.xlabel('year');\n",
    "plt.ylabel('cost');"
   ]
  },
  {
   "cell_type": "markdown",
   "metadata": {},
   "source": [
    "If you prefer the line of best fit to be a line instead of dots, get rid of the period:"
   ]
  },
  {
   "cell_type": "code",
   "execution_count": 15,
   "metadata": {},
   "outputs": [
    {
     "data": {
      "image/png": "[encoded data removed]",
      "text/plain": [
       "<Figure size 432x288 with 1 Axes>"
      ]
     },
     "execution_count": 15,
     "metadata": {
      "image/png": {
       "height": 261,
       "width": 395
      }
     },
     "output_type": "execute_result"
    }
   ],
   "source": [
    "plt.plot(X,y,'.', X, model.predict(X));\n",
    "plt.xlabel('year');\n",
    "plt.ylabel('cost');"
   ]
  },
  {
   "cell_type": "markdown",
   "metadata": {},
   "source": [
    "What would we predict tuition to be in 2020?"
   ]
  },
  {
   "cell_type": "code",
   "execution_count": 33,
   "metadata": {
    "scrolled": true
   },
   "outputs": [
    {
     "name": "stdout",
     "output_type": "stream",
     "text": [
      "[16222.40909091]\n",
      "0.9863642357468059\n"
     ]
    }
   ],
   "source": [
    "print(model.predict([[2020]]))\n",
    "\n",
    "#R Squared Value\n",
    "print(model.score(X,y)) "
   ]
  },
  {
   "cell_type": "markdown",
   "metadata": {},
   "source": [
    "### sklearn: What's in a model?\n",
    "\n",
    "Woohoo! You just used your first scikit-learn model, LinearRegression. Essentially all models in `sklearn` inherit from the same type of \"estimator\" interface.  This means they'll share common methods that we'll see over and over again like:\n",
    "- `fit()`: Fit a model to a set of training data\n",
    "- `score()`: Score the performance of a model on a given sample of data with known ground truth dependent variables\n",
    "- `predict()`: Predict target/response variables based on a sample of independent variables (features, predictors, etc)\n",
    "\n",
    "Additionally, models are usually loaded with other goodies once they've been fit, which can provide information about the resulting fitted model.  For instance, the ones we printed out above were:\n",
    "- `intercept_`: our $\\beta_0$ (intercept b in our regression model)\n",
    "- `coef_`: the other $\\beta$s (slope m in our model)"
   ]
  },
  {
   "cell_type": "markdown",
   "metadata": {},
   "source": [
    "### R-squared\n",
    "There is one more important idea to note besides slope and intercept. The correlation coefficient squared gives us an important value. Since $R=0.993$ in our Arizona State model, we have that $R^2=0.986$.  Without going into details, we will note that this gives us the fraction of the data’s variation that is accounted for in our model. \n",
    "\n",
    "For example, since our $R^2$ is approximately 98.6%, this means that 98.6% of the variation in tuition is accounted for by year. The other 1.4% might have something to do with economic indicators, state budget, or other factors. Since 98.6% is a very high percentage, we say that our model has good predictive power.\n",
    "\n",
    "As another example consider the graph below that shows hurricanes between 1970 and 2006 and the prediction error in nautical miles of the predicted position.\n",
    "![title](images/hurricanes.png)\n",
    "\n",
    "Suppose that the correlation coefficient for this model is $R=0.879$. Thus, $R^2=0.773$. Therefore, 77.3% of the variation in prediction error can be accounted for by year. Other factors, such as temperature and whether the storm lands over water or land, may explain some of the remaining variation. "
   ]
  },
  {
   "cell_type": "markdown",
   "metadata": {},
   "source": [
    "### Exercise 6:\n",
    "The correlation coefficient, R, for protein (x) versus fat (y) for various Burger King items is given by $R=0.83.\n",
    "\n",
    "a. Calculate R-Squared and describe what it tells you.\n",
    "\n",
    "b. What other factors might be affecting fat content?"
   ]
  },
  {
   "cell_type": "code",
   "execution_count": 17,
   "metadata": {},
   "outputs": [],
   "source": [
    "#insert exercise 6"
   ]
  },
  {
   "cell_type": "markdown",
   "metadata": {},
   "source": [
    "### Residuals\n",
    "A residual is given by the difference between the actual and predicted values, $y-\n",
    "\\hat{y}$.\n",
    "\n",
    "For example, in the year 1990, since the actual tuition was 6546 dollars and the predicted tuition was 6440 dollars, the residual is +107 dollars. As a consumer, you would probably prefer to pay tuition during years when the residuals were negative, as that would indicate that you paid less than predicted by a linear model.\n",
    "\n",
    "### Exercise 7\n",
    "Suppose that you have a linear model for your class that compares the amount of sugar consumed daily versus the number of tooth cavities. Would you prefer to have a positive or negative residual. Why?"
   ]
  },
  {
   "cell_type": "code",
   "execution_count": 2,
   "metadata": {},
   "outputs": [
    {
     "name": "stdout",
     "output_type": "stream",
     "text": [
      "prefer a negative residual because I want less cavities than what is preditcted by the sugar consumption\n"
     ]
    }
   ],
   "source": [
    "#insert answer\n",
    "print('prefer a negative residual because I want less cavities than what is preditcted by the sugar consumption')"
   ]
  },
  {
   "cell_type": "markdown",
   "metadata": {},
   "source": [
    "### Residual Plot\n",
    "A residual plot is the scatterplot of the residuals $y-\n",
    "\\hat{y}$ against the explanatory variable x. \n",
    "\n",
    "Recall that calculating the least squares line required the quantitative variables, straight enough, and outliers conditions were satisfied. However, there is one more condition that we really need to check:\n",
    "\n",
    "Does the Plot Thicken Condition: A scatterplot of the residuals versus the x-values should have no direction or shape. It should just be a blob of points. \n",
    "\n",
    "Recall the Arizona State Tuition scatterplot from above. This plot clearly satisfies the quantitative variables, straight enough, and outlier conditions. So a linear model should be appropriate, right?\n",
    "\n",
    "Well, let’s take a look at the residual plot: "
   ]
  },
  {
   "cell_type": "code",
   "execution_count": 19,
   "metadata": {},
   "outputs": [
    {
     "data": {
      "image/png": "[encoded data removed]",
      "text/plain": [
       "<Figure size 432x288 with 1 Axes>"
      ]
     },
     "execution_count": 19,
     "metadata": {
      "image/png": {
       "height": 261,
       "width": 397
      }
     },
     "output_type": "execute_result"
    }
   ],
   "source": [
    "plt.plot(X,y - model.predict(X), '.');\n",
    "plt.xlabel('year');\n",
    "plt.ylabel('residual');"
   ]
  },
  {
   "cell_type": "markdown",
   "metadata": {},
   "source": [
    "There seems to be a clear down-up pattern here, instead of a shapeless blob, and so we conclude that a linear model might not actually be appropriate!"
   ]
  },
  {
   "cell_type": "markdown",
   "metadata": {},
   "source": [
    "### Exercise 8:\n",
    "Let’s explore why certain shapes in the residual pattern are bad.  If your residual pattern has the shapes below, what might be wrong with using a linear model?\n",
    "![title](images/residuals.png)"
   ]
  },
  {
   "cell_type": "code",
   "execution_count": 20,
   "metadata": {},
   "outputs": [],
   "source": [
    "#insert exercise 8"
   ]
  }
 ],
 "metadata": {
  "kernelspec": {
   "display_name": "Python 3",
   "language": "python",
   "name": "python3"
  },
  "language_info": {
   "codemirror_mode": {
    "name": "ipython",
    "version": 3
   },
   "file_extension": ".py",
   "mimetype": "text/x-python",
   "name": "python",
   "nbconvert_exporter": "python",
   "pygments_lexer": "ipython3",
   "version": "3.7.4"
  }
 },
 "nbformat": 4,
 "nbformat_minor": 1
}
