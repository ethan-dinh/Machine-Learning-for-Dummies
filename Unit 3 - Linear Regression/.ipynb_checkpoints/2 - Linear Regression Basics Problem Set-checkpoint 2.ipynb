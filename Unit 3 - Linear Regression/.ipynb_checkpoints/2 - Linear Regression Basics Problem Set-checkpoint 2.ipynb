{
 "cells": [
  {
   "cell_type": "markdown",
   "metadata": {},
   "source": [
    "Import the required packages below:"
   ]
  },
  {
   "cell_type": "code",
   "execution_count": 4,
   "metadata": {},
   "outputs": [],
   "source": [
    "import numpy as np\n",
    "import pandas as pd\n",
    "import matplotlib.pyplot as plt\n",
    "%matplotlib inline\n",
    "from sklearn.linear_model import LinearRegression\n",
    "from sklearn.metrics import mean_squared_error\n",
    "from scipy.stats import pearsonr"
   ]
  },
  {
   "cell_type": "markdown",
   "metadata": {},
   "source": [
    "Read in the CSV file data/airlines.csv containing the following info:\n",
    "![title](data/airlines.png)\n",
    "Use it to answer the following questions:"
   ]
  },
  {
   "cell_type": "markdown",
   "metadata": {},
   "source": [
    "1. Make a scatterplot of baggage vs. on time arrivals."
   ]
  },
  {
   "cell_type": "code",
   "execution_count": 21,
   "metadata": {},
   "outputs": [
    {
     "name": "stdout",
     "output_type": "stream",
     "text": [
      "               bags  Time\n",
      "Airline                  \n",
      "American West  4.36  81.9\n",
      "United         4.00  80.9\n",
      "Southwest      4.42  78.4\n",
      "US Airways     7.16  78.3\n",
      "Continental    4.62  75.7\n",
      "Jet Blue       5.92  73.8\n",
      "American       6.50  73.1\n",
      "Delta          8.03  70.1\n",
      "Alaska         7.02  69.1\n",
      "Northwest      5.36  67.2\n"
     ]
    },
    {
     "data": {
      "text/plain": [
       "Text(0, 0.5, 'Percentage On Time Arrivals')"
      ]
     },
     "execution_count": 21,
     "metadata": {},
     "output_type": "execute_result"
    },
    {
     "data": {
      "image/png": "[encoded data removed]",
      "text/plain": [
       "<Figure size 432x288 with 1 Axes>"
      ]
     },
     "metadata": {
      "needs_background": "light"
     },
     "output_type": "display_data"
    }
   ],
   "source": [
    "#Reading Data\n",
    "df = pd.read_csv('data/airlines.csv', index_col = 0)\n",
    "df = df.rename(columns={'Mishandled baggage (per 1000 passengers)': 'bags','Percentage On Time Arrivals':'Time'})\n",
    "print(df)\n",
    "\n",
    "X = df['bags']\n",
    "Y = df['Time']\n",
    "plt.plot(X, Y, '.')\n",
    "plt.xlabel('Mishandled baggage (per 1000 passengers)')\n",
    "plt.ylabel('Percentage On Time Arrivals')"
   ]
  },
  {
   "cell_type": "markdown",
   "metadata": {},
   "source": [
    "2. What is the correlation between baggage and on time arrivals?"
   ]
  },
  {
   "cell_type": "code",
   "execution_count": 6,
   "metadata": {},
   "outputs": [
    {
     "data": {
      "text/plain": [
       "-0.5953193405508687"
      ]
     },
     "execution_count": 6,
     "metadata": {},
     "output_type": "execute_result"
    }
   ],
   "source": [
    "pearsonr(X, Y)[0]"
   ]
  },
  {
   "cell_type": "markdown",
   "metadata": {},
   "source": [
    "3. What are the mean and standard deviation of the X and Y variables"
   ]
  },
  {
   "cell_type": "code",
   "execution_count": 7,
   "metadata": {},
   "outputs": [
    {
     "name": "stdout",
     "output_type": "stream",
     "text": [
      "X mean: 5.739, Y mean: 74.85000000000001\n",
      "X std: 1.3977000949973335, Y std: 5.0535466093955606\n"
     ]
    }
   ],
   "source": [
    "print(f\"X mean: {X.mean()}, Y mean: {Y.mean()}\")\n",
    "print(f\"X std: {X.std()}, Y std: {Y.std()}\")"
   ]
  },
  {
   "cell_type": "markdown",
   "metadata": {},
   "source": [
    "4. Calculate the line of best fit by hand (show your calculations you use below)."
   ]
  },
  {
   "cell_type": "markdown",
   "metadata": {},
   "source": [
    "## The Line that best fits\n",
    "$y = -2.151x + 62.505 $\n",
    "\n",
    "$ m = -0.595 (\\frac{5.054}{1.398}) = -2.152 $\n",
    "\n",
    "$b = 74.85 + 2.152 * 5.739 = 87.200 $"
   ]
  },
  {
   "cell_type": "markdown",
   "metadata": {},
   "source": [
    "5.Use scikit-learn to calculate the line of best fit. Print the slope and intercept."
   ]
  },
  {
   "cell_type": "code",
   "execution_count": 8,
   "metadata": {},
   "outputs": [
    {
     "name": "stdout",
     "output_type": "stream",
     "text": [
      "b:  87.20288782505382\n",
      "m:  [-2.15244604]\n"
     ]
    }
   ],
   "source": [
    "model = LinearRegression()\n",
    "y = df['Time']\n",
    "X = df.drop('Time', axis=1)\n",
    "model.fit(X, y)\n",
    "print('b: ', model.intercept_)\n",
    "print('m: ', model.coef_)"
   ]
  },
  {
   "cell_type": "markdown",
   "metadata": {},
   "source": [
    "6.Superimpose the line of best fit on the data."
   ]
  },
  {
   "cell_type": "code",
   "execution_count": 9,
   "metadata": {},
   "outputs": [
    {
     "data": {
      "text/plain": [
       "<matplotlib.legend.Legend at 0x12a59d690>"
      ]
     },
     "execution_count": 9,
     "metadata": {},
     "output_type": "execute_result"
    },
    {
     "data": {
      "image/png": "[encoded data removed]",
      "text/plain": [
       "<Figure size 432x288 with 1 Axes>"
      ]
     },
     "metadata": {
      "needs_background": "light"
     },
     "output_type": "display_data"
    }
   ],
   "source": [
    "b = model.intercept_\n",
    "m = model.coef_[0]\n",
    "plt.plot(X,y,'.', label='actual')\n",
    "plt.plot(X, m*X+b, '-', label='predicted')\n",
    "plt.xlabel('Mishandled baggage (per 1000 passengers)')\n",
    "plt.ylabel('Percentage On Time Arrivals')\n",
    "plt.legend()"
   ]
  },
  {
   "cell_type": "markdown",
   "metadata": {},
   "source": [
    "7. Interpret the slope of your model in context."
   ]
  },
  {
   "cell_type": "code",
   "execution_count": 10,
   "metadata": {},
   "outputs": [
    {
     "name": "stdout",
     "output_type": "stream",
     "text": [
      "The slope of −2.152 means that with every 1 increase in the number of mishandled baggage, the percentage of on time arrivals is expected to decrease by 2.152\n"
     ]
    }
   ],
   "source": [
    "#insert 7\n",
    "print('The slope of −2.152 means that with every 1 increase in the number of mishandled baggage, the percentage of on time arrivals is expected to decrease by 2.152')"
   ]
  },
  {
   "cell_type": "markdown",
   "metadata": {},
   "source": [
    "8. Interpret the intercept of your model in context."
   ]
  },
  {
   "cell_type": "code",
   "execution_count": 11,
   "metadata": {},
   "outputs": [
    {
     "name": "stdout",
     "output_type": "stream",
     "text": [
      "When the number of mishandled baggage is 0, the percent of on-time arrivals is 87.20%\n"
     ]
    }
   ],
   "source": [
    "#insert 8\n",
    "print('When the number of mishandled baggage is 0, the percent of on-time arrivals is 87.20%')"
   ]
  },
  {
   "cell_type": "markdown",
   "metadata": {},
   "source": [
    "9.Calculate and explain the meaning of your $R^2$ in context."
   ]
  },
  {
   "cell_type": "code",
   "execution_count": 12,
   "metadata": {},
   "outputs": [
    {
     "data": {
      "text/plain": [
       "0.35440511723392165"
      ]
     },
     "execution_count": 12,
     "metadata": {},
     "output_type": "execute_result"
    }
   ],
   "source": [
    "#insert 9\n",
    "print(model.score(X,y))\n",
    "print('45% of variation can be accounted by the ')"
   ]
  },
  {
   "cell_type": "markdown",
   "metadata": {},
   "source": [
    "10.Create a residual plot. Based on the residual plot, does a linear model seem appropriate?"
   ]
  },
  {
   "cell_type": "code",
   "execution_count": 20,
   "metadata": {},
   "outputs": [
    {
     "data": {
      "text/plain": [
       "Text(0, 0.5, 'Risidual')"
      ]
     },
     "execution_count": 20,
     "metadata": {},
     "output_type": "execute_result"
    },
    {
     "data": {
      "image/png": "[encoded data removed]",
      "text/plain": [
       "<Figure size 432x288 with 1 Axes>"
      ]
     },
     "metadata": {
      "needs_background": "light"
     },
     "output_type": "display_data"
    }
   ],
   "source": [
    "#insert 10\n",
    "plt.plot(X,y - model.predict(X),'.', label='actual')\n",
    "plt.xlabel('Mishandled baggage (per 1000 passengers)')\n",
    "plt.ylabel('Risidual')\n",
    "print('No, due to the downwards and upwards trend')"
   ]
  },
  {
   "cell_type": "markdown",
   "metadata": {},
   "source": [
    "11. Calculate the residual of American Airlines using Python syntax."
   ]
  },
  {
   "cell_type": "code",
   "execution_count": 36,
   "metadata": {},
   "outputs": [
    {
     "name": "stdout",
     "output_type": "stream",
     "text": [
      "[-0.11198856]\n"
     ]
    }
   ],
   "source": [
    "#insert 11\n",
    "print(df.loc['American', 'Time'] - model.predict([[df.bags['American']]]))"
   ]
  },
  {
   "cell_type": "markdown",
   "metadata": {},
   "source": [
    "12. As a consumer, would you prefer to fly on an airline that had a positive or negative residual? Why?"
   ]
  },
  {
   "cell_type": "code",
   "execution_count": 37,
   "metadata": {},
   "outputs": [
    {
     "name": "stdout",
     "output_type": "stream",
     "text": [
      "Positive because you want a higher percentage of on-time arrivals\n"
     ]
    }
   ],
   "source": [
    "#insert 12\n",
    "print('Positive because you want a higher percentage of on-time arrivals')"
   ]
  },
  {
   "cell_type": "markdown",
   "metadata": {},
   "source": [
    "13. What would you predict an airline with a mishandled baggage rate of 10 (per 1000 customers) to have as their ontime arrival percentage?"
   ]
  },
  {
   "cell_type": "code",
   "execution_count": 38,
   "metadata": {},
   "outputs": [
    {
     "data": {
      "text/plain": [
       "array([65.67842742])"
      ]
     },
     "execution_count": 38,
     "metadata": {},
     "output_type": "execute_result"
    }
   ],
   "source": [
    "#Insert 13\n",
    "model.predict([[10]])"
   ]
  }
 ],
 "metadata": {
  "kernelspec": {
   "display_name": "Python 3",
   "language": "python",
   "name": "python3"
  },
  "language_info": {
   "codemirror_mode": {
    "name": "ipython",
    "version": 3
   },
   "file_extension": ".py",
   "mimetype": "text/x-python",
   "name": "python",
   "nbconvert_exporter": "python",
   "pygments_lexer": "ipython3",
   "version": "3.7.4"
  }
 },
 "nbformat": 4,
 "nbformat_minor": 1
}
